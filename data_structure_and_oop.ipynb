{
  "nbformat": 4,
  "nbformat_minor": 0,
  "metadata": {
    "colab": {
      "provenance": [],
      "collapsed_sections": [
        "9pPe-iLgmj90",
        "n_ePYDsfuI3R",
        "2-_4Sl2vwIXX",
        "uSil8oG7wE0A",
        "4KPym88Q2CXk",
        "SNFH7POZcUeY",
        "W2A_xd_-cpYe",
        "kTLMJlWviE7_",
        "4FStHJ8Ita-y",
        "1AXUGZy30tjb"
      ],
      "include_colab_link": true
    },
    "kernelspec": {
      "name": "python3",
      "display_name": "Python 3"
    },
    "language_info": {
      "name": "python"
    }
  },
  "cells": [
    {
      "cell_type": "markdown",
      "metadata": {
        "id": "view-in-github",
        "colab_type": "text"
      },
      "source": [
        "<a href=\"https://colab.research.google.com/github/AtifQureshi110/python_developement/blob/main/data_structure_and_oop.ipynb\" target=\"_parent\"><img src=\"https://colab.research.google.com/assets/colab-badge.svg\" alt=\"Open In Colab\"/></a>"
      ]
    },
    {
      "cell_type": "markdown",
      "source": [
        "# To become a Python developer, there are several fundamental concepts you should cover. Here are some key areas to focus on:\n",
        "\n",
        "1. Python Basics: Start by learning the basics of Python programming, including data types, variables, operators, control flow (if-else statements, loops), functions, and file handling.\n",
        "\n",
        "2. Data Structures: Familiarize yourself with essential data structures such as lists, tuples, dictionaries, and sets. Understand their properties, methods, and when to use each one.\n",
        "\n",
        "3. Object-Oriented Programming (OOP): Learn the principles of OOP, including classes, objects, inheritance, polymorphism, and encapsulation. OOP is crucial for building scalable and modular applications.\n",
        "\n",
        "4. Libraries and Modules: Explore Python's standard library and popular third-party modules. Become familiar with modules like `math`, `random`, `datetime`, and libraries like `NumPy`, `Pandas`, and `requests`. Understand how to import and use these modules in your programs.\n",
        "\n",
        "5. File Handling and Input/Output: Learn how to read from and write to files using Python's file handling mechanisms. Understand concepts like file modes, reading and writing data, and handling exceptions.\n",
        "\n",
        "6. Exception Handling: Gain knowledge of how to handle exceptions gracefully in your code. Learn about try-except blocks, raising and catching exceptions, and using the `finally` block for cleanup.\n",
        "\n",
        "7. Regular Expressions: Understand the basics of regular expressions (regex) and how to use them in Python for pattern matching and text manipulation. Regular expressions are powerful tools for data processing and validation.\n",
        "\n",
        "8. Web Development: If you're interested in web development, learn about Python web frameworks like Django or Flask. Familiarize yourself with concepts like routing, views, templates, and working with databases using frameworks' ORM (Object-Relational Mapping) systems.\n",
        "\n",
        "9. Testing and Debugging: Learn how to write effective tests for your code using Python's built-in `unittest` module or third-party libraries like `pytest`. Understand debugging techniques and how to use Python's debugger (pdb) to find and fix issues in your code.\n",
        "\n",
        "10. Version Control: Learn how to use version control systems like Git. Understand concepts such as repositories, commits, branching, and merging. This will help you collaborate effectively with other developers and manage your codebase.\n",
        "\n",
        "Remember that continuous practice, working on projects, and exploring real-world examples are essential to reinforce your understanding and gain practical experience as a Python developer."
      ],
      "metadata": {
        "id": "YU0Og3Z3mYGs"
      }
    },
    {
      "cell_type": "markdown",
      "source": [
        "# Python Basics:\n",
        "Start by learning the basics of Python programming, including data types, variables, operators, control flow (if-else statements, loops), functions, and file handling."
      ],
      "metadata": {
        "id": "9pPe-iLgmj90"
      }
    },
    {
      "cell_type": "code",
      "source": [
        "#Data Types: Python has built-in data types such as integers, floats, strings, booleans, lists, tuples, and dictionaries. For example:\n",
        "age = 25\n",
        "price = 9.99\n",
        "name = \"John\"\n",
        "is_student = True"
      ],
      "metadata": {
        "id": "QcS5xjfymjJe"
      },
      "execution_count": null,
      "outputs": []
    },
    {
      "cell_type": "code",
      "source": [
        "print(f'\"age\":{type(age)}\\n\"price\":{type(price)}\\n\"name\":{type(name)}\\n\"is_student\":{type(is_student)}')"
      ],
      "metadata": {
        "colab": {
          "base_uri": "https://localhost:8080/"
        },
        "id": "8XzW0kbXmzHQ",
        "outputId": "6f605511-2956-473f-837b-b10dd827c54d"
      },
      "execution_count": null,
      "outputs": [
        {
          "output_type": "stream",
          "name": "stdout",
          "text": [
            "\"age\":<class 'int'>\n",
            "\"price\":<class 'float'>\n",
            "\"name\":<class 'str'>\n",
            "\"is_student\":<class 'bool'>\n"
          ]
        }
      ]
    },
    {
      "cell_type": "code",
      "source": [
        "#Variables: Variables are used to store values and can be assigned using the assignment operator (=). For example:\n",
        "x = 5\n",
        "y = 10\n",
        "result = x + y\n",
        "print(result)"
      ],
      "metadata": {
        "colab": {
          "base_uri": "https://localhost:8080/"
        },
        "id": "5MaY35iOm7XX",
        "outputId": "b68fd93b-794a-42b4-8cf6-1db9a3cb84c2"
      },
      "execution_count": null,
      "outputs": [
        {
          "output_type": "stream",
          "name": "stdout",
          "text": [
            "15\n"
          ]
        }
      ]
    },
    {
      "cell_type": "code",
      "source": [
        "\"\"\"Operators: Python supports various operators like arithmetic operators (+, -, *, /), comparison operators (==, !=, >, <), logical operators (and, or, not),\n",
        "and more. For example:\"\"\"\n",
        "a = 5\n",
        "b = 10\n",
        "print(a + b)  # Output: 15\n",
        "print(a > b)  # Output: False\n",
        "print(not a)  # Output: False"
      ],
      "metadata": {
        "colab": {
          "base_uri": "https://localhost:8080/"
        },
        "id": "KCnvYFSsoEiE",
        "outputId": "eebe0fa3-00c5-4435-b54b-93f45f7f2515"
      },
      "execution_count": null,
      "outputs": [
        {
          "output_type": "stream",
          "name": "stdout",
          "text": [
            "15\n",
            "False\n",
            "False\n"
          ]
        }
      ]
    },
    {
      "cell_type": "code",
      "source": [
        "\"\"\"# Control Flow: Control flow statements allow you to control the execution flow of your program.\n",
        "Examples include if-else statements and loops (for and while loops). For example:\"\"\"\n",
        "# If-else statement\n",
        "x = 5\n",
        "if x > 0:\n",
        "    print(\"Positive\")\n",
        "else:\n",
        "    print(\"Negative or zero\")\n",
        "\n",
        "# For loop\n",
        "fruits = [\"apple\", \"banana\", \"cherry\"]\n",
        "for fruit in fruits:\n",
        "    print(fruit)\n",
        "\n",
        "# While loop\n",
        "count = 0\n",
        "while count < 5:\n",
        "    print(count)\n",
        "    count += 1"
      ],
      "metadata": {
        "colab": {
          "base_uri": "https://localhost:8080/"
        },
        "id": "rVnlrO9-oqNL",
        "outputId": "6a3b0113-3362-4913-d85a-933b75d6a303"
      },
      "execution_count": null,
      "outputs": [
        {
          "output_type": "stream",
          "name": "stdout",
          "text": [
            "Positive\n",
            "apple\n",
            "banana\n",
            "cherry\n",
            "0\n",
            "1\n",
            "2\n",
            "3\n",
            "4\n"
          ]
        }
      ]
    },
    {
      "cell_type": "code",
      "source": [
        "# Functions: Functions are reusable blocks of code that perform specific tasks. They take input parameters and can return values. For example:\n",
        "def greet(name):\n",
        "    print(\"Hello, \" + name)\n",
        "\n",
        "greet(\"John\")  # Output: Hello, John"
      ],
      "metadata": {
        "colab": {
          "base_uri": "https://localhost:8080/"
        },
        "id": "DLO9pME9pF3y",
        "outputId": "84cb5e0a-2557-46df-a32c-fea548dd448c"
      },
      "execution_count": null,
      "outputs": [
        {
          "output_type": "stream",
          "name": "stdout",
          "text": [
            "Hello, John\n"
          ]
        }
      ]
    },
    {
      "cell_type": "code",
      "source": [
        "# File Handling: File handling allows you to read from and write to files. For example:\n",
        "\n",
        "# Reading from a file\n",
        "with open(\"/content/drive/MyDrive/python developer/myfile.txt\", \"r\") as file:\n",
        "    contents = file.read()\n",
        "    print(contents)\n",
        "\n",
        "# Writing to a file\n",
        "with open(\"/content/drive/MyDrive/python developer/myfile.txt\", \"w\") as file:\n",
        "    file.write(\"Hello, world!\")"
      ],
      "metadata": {
        "colab": {
          "base_uri": "https://localhost:8080/"
        },
        "id": "AnsnwGeGpPkp",
        "outputId": "1dd3dfa8-baee-499d-e0df-aa7d39daa48f"
      },
      "execution_count": null,
      "outputs": [
        {
          "output_type": "stream",
          "name": "stdout",
          "text": [
            "Hello, world!\n"
          ]
        }
      ]
    },
    {
      "cell_type": "markdown",
      "source": [
        "These concepts form the foundation of Python programming and provide a solid understanding of how to work with variables, perform operations, control program flow, define functions, and handle files."
      ],
      "metadata": {
        "id": "Ol1onyQmquNa"
      }
    },
    {
      "cell_type": "markdown",
      "source": [
        "# Data Structures:\n",
        " Familiarize yourself with essential data structures such as lists, tuples, dictionaries, and sets. Understand their properties, methods, and when to use each one."
      ],
      "metadata": {
        "id": "n_ePYDsfuI3R"
      }
    },
    {
      "cell_type": "markdown",
      "source": [
        "## List\n",
        "- Lists: Lists are ordered collections of items. They can contain elements of different data types, and the elements can be modified (mutable). Lists are enclosed in square brackets ([]) and can be indexed and sliced"
      ],
      "metadata": {
        "id": "2-_4Sl2vwIXX"
      }
    },
    {
      "cell_type": "code",
      "source": [
        "numbers = [1, 2, 3, 4, 5]\n",
        "fruits = [\"apple\", \"banana\", \"cherry\"]\n",
        "mixed = [1, \"hello\", True]"
      ],
      "metadata": {
        "id": "x0HsYZGCuRLw"
      },
      "execution_count": null,
      "outputs": []
    },
    {
      "cell_type": "code",
      "source": [
        "# append(item): Adds an item to the end of the list.\n",
        "print(\"orginal\",fruits)\n",
        "fruits.append(\"orange\")\n",
        "print(fruits)  # Output: [\"apple\", \"banana\", \"cherry\", \"orange\"]"
      ],
      "metadata": {
        "colab": {
          "base_uri": "https://localhost:8080/"
        },
        "id": "XX8zgvZ8uk_X",
        "outputId": "f0bf2169-f831-4aeb-89fb-5f16fb7fa653"
      },
      "execution_count": null,
      "outputs": [
        {
          "output_type": "stream",
          "name": "stdout",
          "text": [
            "orginal ['apple', 'banana', 'cherry']\n",
            "['apple', 'banana', 'cherry', 'orange']\n"
          ]
        }
      ]
    },
    {
      "cell_type": "code",
      "source": [
        "# insert(index, item): Inserts an item at a specific index in the list.\n",
        "fruits.insert(1, \"grape\") # particular index\n",
        "print(fruits)  # Output: [\"apple\", \"grape\", \"banana\", \"cherry\", \"orange\"]\n"
      ],
      "metadata": {
        "colab": {
          "base_uri": "https://localhost:8080/"
        },
        "id": "sae8GzVFuoUf",
        "outputId": "c8794fed-be1d-4249-e337-9bb563c2e68e"
      },
      "execution_count": null,
      "outputs": [
        {
          "output_type": "stream",
          "name": "stdout",
          "text": [
            "['apple', 'grape', 'banana', 'cherry', 'orange']\n"
          ]
        }
      ]
    },
    {
      "cell_type": "code",
      "source": [
        "# remove(item): Removes the first occurrence of the specified item from the list.\n",
        "fruits.remove(\"banana\")\n",
        "print(fruits)  # Output: [\"apple\", \"grape\", \"cherry\", \"orange\"]"
      ],
      "metadata": {
        "colab": {
          "base_uri": "https://localhost:8080/"
        },
        "id": "qLnRGJWLu7aC",
        "outputId": "c01c5f18-6abc-4cde-e217-2e5d3e4b3dfe"
      },
      "execution_count": null,
      "outputs": [
        {
          "output_type": "stream",
          "name": "stdout",
          "text": [
            "['apple', 'grape', 'cherry', 'orange']\n"
          ]
        }
      ]
    },
    {
      "cell_type": "code",
      "source": [
        "# pop(index): Removes and returns the item at the specified index. If no index is provided, it removes and returns the last item.\n",
        "popped_item = fruits.pop(1)\n",
        "print(popped_item)  # Output: \"grape\"\n",
        "print(fruits)       # Output: [\"apple\", \"cherry\", \"orange\"]"
      ],
      "metadata": {
        "colab": {
          "base_uri": "https://localhost:8080/"
        },
        "id": "T6MKbFNQvN6z",
        "outputId": "8e17f1a5-a43b-4763-f340-cc3891b830dc"
      },
      "execution_count": null,
      "outputs": [
        {
          "output_type": "stream",
          "name": "stdout",
          "text": [
            "grape\n",
            "['apple', 'cherry', 'orange']\n"
          ]
        }
      ]
    },
    {
      "cell_type": "code",
      "source": [
        "#index(item): Returns the index of the first occurrence of the specified item.\n",
        "index = fruits.index(\"cherry\")\n",
        "print(index)  # Output: 1"
      ],
      "metadata": {
        "colab": {
          "base_uri": "https://localhost:8080/"
        },
        "id": "EJrLBQyuvXqG",
        "outputId": "7f952015-21c4-44ea-ab46-0cc23de4dcf2"
      },
      "execution_count": null,
      "outputs": [
        {
          "output_type": "stream",
          "name": "stdout",
          "text": [
            "1\n"
          ]
        }
      ]
    },
    {
      "cell_type": "code",
      "source": [
        "#count(item): Returns the number of occurrences of the specified item in the list.\n",
        "count = fruits.count(\"apple\")\n",
        "print(count)  # Output: 1"
      ],
      "metadata": {
        "colab": {
          "base_uri": "https://localhost:8080/"
        },
        "id": "2LkD0zcOvaPC",
        "outputId": "92932d48-6b9c-4e12-9d0f-5f63500bd8a6"
      },
      "execution_count": null,
      "outputs": [
        {
          "output_type": "stream",
          "name": "stdout",
          "text": [
            "1\n"
          ]
        }
      ]
    },
    {
      "cell_type": "code",
      "source": [
        "#sort(): Sorts the list in ascending order.\n",
        "numbers.sort()\n",
        "print(numbers)  # Output: [1, 2, 3, 4, 5]"
      ],
      "metadata": {
        "id": "AHh2Kws2vqbI",
        "colab": {
          "base_uri": "https://localhost:8080/"
        },
        "outputId": "fad210f5-49be-4da7-cbab-e237a34eea74"
      },
      "execution_count": null,
      "outputs": [
        {
          "output_type": "stream",
          "name": "stdout",
          "text": [
            "[1, 2, 3, 4, 5]\n"
          ]
        }
      ]
    },
    {
      "cell_type": "code",
      "source": [
        "#reverse(): Reverses the order of the elements in the list.\n",
        "fruits.reverse()\n",
        "print(fruits)  # Output: [\"orange\", \"cherry\", \"apple\"]"
      ],
      "metadata": {
        "id": "8YiXZjqTvyBP",
        "colab": {
          "base_uri": "https://localhost:8080/"
        },
        "outputId": "e302fd58-be8a-48fe-d5f1-4d54f5fcbb01"
      },
      "execution_count": null,
      "outputs": [
        {
          "output_type": "stream",
          "name": "stdout",
          "text": [
            "['orange', 'cherry', 'apple']\n"
          ]
        }
      ]
    },
    {
      "cell_type": "code",
      "source": [
        "#len(): Returns the number of items in the list.\n",
        "length = len(numbers)\n",
        "print(length)  # Output: 5"
      ],
      "metadata": {
        "id": "MiY9Gydkv4Fn",
        "colab": {
          "base_uri": "https://localhost:8080/"
        },
        "outputId": "86408030-7f1d-4f4c-89c3-da87080aabeb"
      },
      "execution_count": null,
      "outputs": [
        {
          "output_type": "stream",
          "name": "stdout",
          "text": [
            "5\n"
          ]
        }
      ]
    },
    {
      "cell_type": "markdown",
      "source": [
        "These are just a few examples of the methods available for lists. There are additional methods and functionalities that you can explore in the Python documentation to make the most of this versatile data structure."
      ],
      "metadata": {
        "id": "lQxWfBZGwDKo"
      }
    },
    {
      "cell_type": "markdown",
      "source": [
        "## Dictionary\n",
        "- A dictionary is an unordered collection of key-value pairs, where each key is unique. It is also known as an associative array or a hash map in other programming languages. Dictionaries are defined using curly braces ({}). Each key-value pair is separated by a colon (:), and multiple pairs are separated by commas."
      ],
      "metadata": {
        "id": "uSil8oG7wE0A"
      }
    },
    {
      "cell_type": "code",
      "source": [
        "student = {    \"name\": \"Alice\",    \"age\": 20,    \"major\": \"Computer Science\"}\n",
        "# In this example, the dictionary student contains three key-value pairs:\n",
        "# The key \"name\" is associated with the value \"Alice\".\n",
        "# The key \"age\" is associated with the value 20.\n",
        "# The key \"major\" is associated with the value \"Computer Science\"."
      ],
      "metadata": {
        "id": "b2zfSkVBv93w"
      },
      "execution_count": null,
      "outputs": []
    },
    {
      "cell_type": "code",
      "source": [
        "# You can access the values in a dictionary by referring to the key within square brackets or by using the get() method.\n",
        "name = student[\"name\"]\n",
        "print(name)  # Output: \"Alice\"\n",
        "\n",
        "age = student.get(\"age\")\n",
        "print(age)  # Output: 20\n"
      ],
      "metadata": {
        "colab": {
          "base_uri": "https://localhost:8080/"
        },
        "id": "4D94vPBBy444",
        "outputId": "c7472889-b02e-4c74-8b50-0d0f25f4bfb5"
      },
      "execution_count": null,
      "outputs": [
        {
          "output_type": "stream",
          "name": "stdout",
          "text": [
            "Alice\n",
            "20\n"
          ]
        }
      ]
    },
    {
      "cell_type": "code",
      "source": [
        "print(student.keys(),\"\\n\",student.values())"
      ],
      "metadata": {
        "colab": {
          "base_uri": "https://localhost:8080/"
        },
        "id": "8hy83EY1z773",
        "outputId": "e6aafed8-a956-4070-bdcc-c16210e90102"
      },
      "execution_count": null,
      "outputs": [
        {
          "output_type": "stream",
          "name": "stdout",
          "text": [
            "dict_keys(['name', 'age', 'major']) \n",
            " dict_values(['Alice', 20, 'Computer Science'])\n"
          ]
        }
      ]
    },
    {
      "cell_type": "code",
      "source": [
        "# Dictionaries are mutable, which means you can modify, add, or remove key-value pairs.\n",
        "print(\"orginal\", student)\n",
        "student[\"age\"] = 21  # Modifying the value associated with the \"age\" key\n",
        "print(\"modification\", student)\n",
        "student[\"gpa\"] = 3.8  # Adding a new key-value pair\n",
        "print(\"adding new element\", student)\n",
        "del student[\"major\"]  # Removing the key-value pair with the key \"major\"\n",
        "print(\"deleting element\", student)"
      ],
      "metadata": {
        "colab": {
          "base_uri": "https://localhost:8080/"
        },
        "id": "w2j_Y6e2z-xa",
        "outputId": "a20f589f-a55a-436c-9d8d-50ec195635d4"
      },
      "execution_count": null,
      "outputs": [
        {
          "output_type": "stream",
          "name": "stdout",
          "text": [
            "orginal {'name': 'Alice', 'age': 20, 'major': 'Computer Science'}\n",
            "modification {'name': 'Alice', 'age': 21, 'major': 'Computer Science'}\n",
            "adding new element {'name': 'Alice', 'age': 21, 'major': 'Computer Science', 'gpa': 3.8}\n",
            "deleting element {'name': 'Alice', 'age': 21, 'gpa': 3.8}\n"
          ]
        }
      ]
    },
    {
      "cell_type": "code",
      "source": [
        "\"\"\" You can also perform various operations on dictionaries, such as checking if a key exists,\n",
        "getting a list of keys or values, and iterating over the key-value pairs.\"\"\"\n",
        "# Checking if a key exists\n",
        "if \"age\" in student:\n",
        "    print(\"Age exists in the student dictionary.\")\n",
        "\n",
        "# Getting a list of keys\n",
        "keys = student.keys()\n",
        "print(keys)  # Output: [\"name\", \"age\", \"gpa\"]\n",
        "\n",
        "# Getting a list of values\n",
        "values = student.values()\n",
        "print(values)  # Output: [\"Alice\", 21, 3.8]\n",
        "\n",
        "# Iterating over key-value pairs\n",
        "for key, value in student.items():\n",
        "    print(key, \":\", value)\n"
      ],
      "metadata": {
        "colab": {
          "base_uri": "https://localhost:8080/"
        },
        "id": "2bUIvKwB05nb",
        "outputId": "8e6eaf91-2178-4d97-b1c8-9313c61e4be6"
      },
      "execution_count": null,
      "outputs": [
        {
          "output_type": "stream",
          "name": "stdout",
          "text": [
            "Age exists in the student dictionary.\n",
            "dict_keys(['name', 'age', 'gpa'])\n",
            "dict_values(['Alice', 21, 3.8])\n",
            "name : Alice\n",
            "age : 21\n",
            "gpa : 3.8\n"
          ]
        }
      ]
    },
    {
      "cell_type": "markdown",
      "source": [
        "Dictionaries are commonly used for storing and retrieving data when you have a unique identifier (key) associated with a value. They provide a convenient way to organize and manipulate data in Python."
      ],
      "metadata": {
        "id": "f7Yy1tOr10nY"
      }
    },
    {
      "cell_type": "markdown",
      "source": [
        "## tuples\n",
        "Tuples are a built-in data structure in Python that allows you to store a collection of values. They are similar to lists, but with one key difference: tuples are immutable, meaning their elements cannot be modified once they are created. This immutability provides some advantages in certain situations, such as ensuring data integrity and making tuples hashable (allowing them to be used as dictionary keys)."
      ],
      "metadata": {
        "id": "4KPym88Q2CXk"
      }
    },
    {
      "cell_type": "code",
      "source": [
        "my_tuple = (1, 2, 3)\n",
        "print(my_tuple)"
      ],
      "metadata": {
        "id": "jCifeeTW2CIy",
        "colab": {
          "base_uri": "https://localhost:8080/"
        },
        "outputId": "80237c02-f296-46fb-c90b-4f34fa843735"
      },
      "execution_count": null,
      "outputs": [
        {
          "output_type": "stream",
          "name": "stdout",
          "text": [
            "(1, 2, 3)\n"
          ]
        }
      ]
    },
    {
      "cell_type": "code",
      "source": [
        "print(my_tuple[0])  #"
      ],
      "metadata": {
        "id": "_d02HNt11y8C",
        "colab": {
          "base_uri": "https://localhost:8080/"
        },
        "outputId": "decdaff0-3dd5-4661-a8da-449b123bd513"
      },
      "execution_count": null,
      "outputs": [
        {
          "output_type": "stream",
          "name": "stdout",
          "text": [
            "1\n"
          ]
        }
      ]
    },
    {
      "cell_type": "code",
      "source": [
        "my_tuple = (1, 2, 3, 4, 5)\n",
        "subset = my_tuple[1:4]\n",
        "print(subset)  # Output: (2, 3, 4)\n"
      ],
      "metadata": {
        "colab": {
          "base_uri": "https://localhost:8080/"
        },
        "id": "1V52FtieQHHN",
        "outputId": "3e77c6e1-8d02-457e-9c51-4be6efc520a6"
      },
      "execution_count": null,
      "outputs": [
        {
          "output_type": "stream",
          "name": "stdout",
          "text": [
            "(2, 3, 4)\n"
          ]
        }
      ]
    },
    {
      "cell_type": "code",
      "source": [
        "my_tuple = (1, 2, 3)\n",
        "length = len(my_tuple)\n",
        "print(length)  # Output: 3\n"
      ],
      "metadata": {
        "colab": {
          "base_uri": "https://localhost:8080/"
        },
        "id": "JC8EsNHcQQzv",
        "outputId": "47c96a4d-df3f-4ba5-d01a-a9ab44311ff6"
      },
      "execution_count": null,
      "outputs": [
        {
          "output_type": "stream",
          "name": "stdout",
          "text": [
            "3\n"
          ]
        }
      ]
    },
    {
      "cell_type": "code",
      "source": [
        "# Unpacking: Tuples support unpacking, which allows you to assign the elements of a tuple to separate variables.\n",
        "# The number of variables must match the number of elements in the tuple. For example:\n",
        "my_tuple = (1, 2, 3)\n",
        "a, b, c = my_tuple\n",
        "print(a, b, c)  # Output: 1 2 3"
      ],
      "metadata": {
        "colab": {
          "base_uri": "https://localhost:8080/"
        },
        "id": "J1VWIU0AQRjT",
        "outputId": "e41f8eb5-6500-4335-bcf4-246e3f47144a"
      },
      "execution_count": null,
      "outputs": [
        {
          "output_type": "stream",
          "name": "stdout",
          "text": [
            "1 2 3\n"
          ]
        }
      ]
    },
    {
      "cell_type": "code",
      "source": [
        "# Concatenation: Tuples can be concatenated using the + operator, which creates a new tuple with the combined elements. For example:\n",
        "tuple1 = (1, 2)\n",
        "tuple2 = (3, 4)\n",
        "concatenated_tuple = tuple1 + tuple2\n",
        "print(concatenated_tuple)  # Output: (1, 2, 3, 4)"
      ],
      "metadata": {
        "colab": {
          "base_uri": "https://localhost:8080/"
        },
        "id": "FZ1zg2WsQgMG",
        "outputId": "03a1936b-c9e4-4552-bafb-133d5190a4a9"
      },
      "execution_count": null,
      "outputs": [
        {
          "output_type": "stream",
          "name": "stdout",
          "text": [
            "(1, 2, 3, 4)\n"
          ]
        }
      ]
    },
    {
      "cell_type": "code",
      "source": [
        "# Membership: You can check whether an element is present in a tuple using the in operator. It returns a boolean value indicating the result. For example:\n",
        "my_tuple = (1, 2, 3)\n",
        "print(2 in my_tuple)  # Output: True"
      ],
      "metadata": {
        "colab": {
          "base_uri": "https://localhost:8080/"
        },
        "id": "R4nax8EkQnvi",
        "outputId": "68e764ad-ebe5-4e40-f3c0-bef7ed8970f9"
      },
      "execution_count": null,
      "outputs": [
        {
          "output_type": "stream",
          "name": "stdout",
          "text": [
            "True\n"
          ]
        }
      ]
    },
    {
      "cell_type": "code",
      "source": [
        "# Count: The count() method returns the number of occurrences of a specific element within a tuple. For example:\n",
        "my_tuple = (1, 2, 2, 3, 2)\n",
        "count = my_tuple.count(2)\n",
        "print(count)  # Output: 3"
      ],
      "metadata": {
        "id": "8-J7olEgQ84K"
      },
      "execution_count": null,
      "outputs": []
    },
    {
      "cell_type": "code",
      "source": [
        "#Index: The index() method returns the index of the first occurrence of a specified element within a tuple. For example:\n",
        "my_tuple = (1, 2, 2, 3, 8)\n",
        "index = my_tuple.index(8)\n",
        "print(index)  # Output: 3"
      ],
      "metadata": {
        "colab": {
          "base_uri": "https://localhost:8080/"
        },
        "id": "SrHDshERRGYc",
        "outputId": "7f0dbac2-e84b-483f-af0b-c99f86ba2806"
      },
      "execution_count": null,
      "outputs": [
        {
          "output_type": "stream",
          "name": "stdout",
          "text": [
            "4\n"
          ]
        }
      ]
    },
    {
      "cell_type": "markdown",
      "source": [
        "## set\n",
        "In Python, a set is an unordered collection of unique elements. It is a built-in data structure that provides various operations based on set theory. Here's everything you need to know about sets in Python"
      ],
      "metadata": {
        "id": "nkseRU3WZPXZ"
      }
    },
    {
      "cell_type": "code",
      "source": [
        "#Creation: Sets can be created by enclosing comma-separated values within curly braces {} or by using the set() constructor. For example:\n",
        "my_set = {1, 2, 3}\n",
        "print(my_set)\n",
        "my_set = set([1, 2, 3])\n",
        "print(my_set)"
      ],
      "metadata": {
        "colab": {
          "base_uri": "https://localhost:8080/"
        },
        "id": "HRTBsLx-RP6R",
        "outputId": "9e15c2b5-90bc-42c5-97ae-c84e6dc61155"
      },
      "execution_count": null,
      "outputs": [
        {
          "output_type": "stream",
          "name": "stdout",
          "text": [
            "{1, 2, 3}\n",
            "{1, 2, 3}\n"
          ]
        }
      ]
    },
    {
      "cell_type": "code",
      "source": [
        "# Removing Elements: Elements can be removed from a set using the remove() or discard() method.\n",
        "# If the element does not exist, remove() raises a KeyError, while discard() does nothing.\n",
        "my_set = {1, 2, 3,4}\n",
        "print(my_set)\n",
        "my_set.remove(2)\n",
        "print(my_set)\n",
        "my_set.discard(1)\n",
        "print(my_set)"
      ],
      "metadata": {
        "colab": {
          "base_uri": "https://localhost:8080/"
        },
        "id": "6dGI5IEYZz_G",
        "outputId": "0f0a716f-f737-48cc-859c-cae543386e95"
      },
      "execution_count": null,
      "outputs": [
        {
          "output_type": "stream",
          "name": "stdout",
          "text": [
            "{1, 2, 3, 4}\n",
            "{1, 3, 4}\n",
            "{3, 4}\n"
          ]
        }
      ]
    },
    {
      "cell_type": "code",
      "source": [
        "# Set Operations: Sets support various operations such as union (|), intersection (&), difference (-), and symmetric difference (^).\n",
        "# These operations can be performed between two sets using operators or corresponding methods.\n",
        "set1 = {1, 2, 3}\n",
        "set2 = {2, 3, 4}\n",
        "print(f\"set1:{set1}, set2:{set2}\")\n",
        "union = set1 | set2\n",
        "print(\"union: \",union)\n",
        "intersection = set1 & set2\n",
        "print(\"intersection: \",intersection)\n",
        "difference = set1 - set2\n",
        "print(\"difference: \",difference)\n",
        "symmetric_difference = set1 ^ set2\n",
        "print(\"symmetric_difference: \",symmetric_difference)"
      ],
      "metadata": {
        "colab": {
          "base_uri": "https://localhost:8080/"
        },
        "id": "ARneDxA_aP8h",
        "outputId": "ab679941-c45d-41fd-9c5d-a00bd327b551"
      },
      "execution_count": null,
      "outputs": [
        {
          "output_type": "stream",
          "name": "stdout",
          "text": [
            "set1:{1, 2, 3}, set2:{2, 3, 4}\n",
            "union:  {1, 2, 3, 4}\n",
            "intersection:  {2, 3}\n",
            "difference:  {1}\n",
            "symmetric_difference:  {1, 4}\n"
          ]
        }
      ]
    },
    {
      "cell_type": "markdown",
      "source": [
        "Length: The len() function can be used to determine the number of elements in a set.\n",
        "\n",
        "Iteration: You can iterate over the elements of a set using a for loop.\n",
        "\n",
        "Immutable Set: Python also provides an immutable version of sets called frozensets. Frozensets have the same properties as sets, except they are immutable and can be used as elements within other sets or as dictionary keys.\n",
        "\n",
        "Sets in Python are useful when you need to store a collection of unique elements and perform operations based on set theory, such as finding intersections, differences, or removing duplicates."
      ],
      "metadata": {
        "id": "3T8NRM7ebr7h"
      }
    },
    {
      "cell_type": "markdown",
      "source": [
        "# Object-Oriented Programming (OOP)\n",
        "OOP is a programming paradigm that organizes code into objects, which are instances of classes. OOP focuses on the concepts of encapsulation, inheritance, and polymorphism. Here's an overview of these principles:"
      ],
      "metadata": {
        "id": "SNFH7POZcUeY"
      }
    },
    {
      "cell_type": "code",
      "source": [],
      "metadata": {
        "id": "k7i8ihAr0hhf"
      },
      "execution_count": null,
      "outputs": []
    },
    {
      "cell_type": "markdown",
      "source": [
        "##Classes:\n",
        " A class is a blueprint or template for creating objects. It defines the attributes (data) and behaviors (methods) that objects of that class will have. For example, a \"Car\" class may have attributes like color and model, and methods like accelerate and brake."
      ],
      "metadata": {
        "id": "W2A_xd_-cpYe"
      }
    },
    {
      "cell_type": "code",
      "source": [
        "# Class Definition: A class is defined using the class keyword followed by the class name. It acts as a blueprint for creating objects. For example:\n",
        "class Car:\n",
        "    pass"
      ],
      "metadata": {
        "id": "vpQwdWSzco8x"
      },
      "execution_count": null,
      "outputs": []
    },
    {
      "cell_type": "code",
      "source": [
        "# Attributes: Attributes, also known as member variables or instance variables, represent the data associated with an object of a class.\n",
        "# They define the characteristics or properties of the objects. Attributes are declared within the class definition. For example:\n",
        "class Car:\n",
        "    def __init__(self, color, model):\n",
        "        self.color = color\n",
        "        self.model = model"
      ],
      "metadata": {
        "id": "Lwf7Q9h0a97k"
      },
      "execution_count": null,
      "outputs": []
    },
    {
      "cell_type": "code",
      "source": [
        "# Methods: Methods are functions defined inside a class. They define the behaviors or actions that objects of the class can perform.\n",
        "# Methods are associated with objects and can access and manipulate the attributes of the object. For example:\n",
        "class Car:\n",
        "    def __init__(self, color, model):\n",
        "        self.color = color\n",
        "        self.model = model\n",
        "\n",
        "    def accelerate(self):\n",
        "        print(\"The car is accelerating.\")\n",
        "\n",
        "    def brake(self):\n",
        "        return \"The car is braking.\"\n",
        "# The None values that you see are printed because the methods accelerate() and brake() do not return any value explicitly.\n",
        "# When a function or method does not have a return statement, it implicitly returns None in Python"
      ],
      "metadata": {
        "id": "erux7rMld5D5"
      },
      "execution_count": null,
      "outputs": []
    },
    {
      "cell_type": "code",
      "source": [
        "# Object Instantiation: The process of creating an object from a class is called object instantiation.\n",
        "# It involves calling the class as if it were a function, which creates a new instance of the class. For example:\n",
        "my_car = Car(\"Red\", \"Sedan\")\n",
        "print(my_car.color)\n",
        "print(my_car.model)\n",
        "print(my_car.accelerate())\n",
        "print(my_car.brake())"
      ],
      "metadata": {
        "colab": {
          "base_uri": "https://localhost:8080/"
        },
        "id": "6VtsxDfFeG9C",
        "outputId": "33b3ac22-041e-49d0-931d-5ce88bb53a89"
      },
      "execution_count": null,
      "outputs": [
        {
          "output_type": "stream",
          "name": "stdout",
          "text": [
            "Red\n",
            "Sedan\n",
            "The car is accelerating.\n",
            "None\n",
            "The car is braking.\n"
          ]
        }
      ]
    },
    {
      "cell_type": "code",
      "source": [
        "# Object Instantiation: The process of creating an object from a class is called object instantiation.\n",
        "# It involves calling the class as if it were a function, which creates a new instance of the class. For example:\n",
        "my_car1 = Car(\"Blue\", \"Sedan\")\n",
        "print(my_car1.color)\n",
        "print(my_car1.model)"
      ],
      "metadata": {
        "colab": {
          "base_uri": "https://localhost:8080/"
        },
        "id": "PsO_MoqoeNAk",
        "outputId": "70489311-f801-44d0-f8da-f095ebb877e3"
      },
      "execution_count": null,
      "outputs": [
        {
          "output_type": "stream",
          "name": "stdout",
          "text": [
            "Blue\n",
            "Sedan\n"
          ]
        }
      ]
    },
    {
      "cell_type": "code",
      "source": [
        "# Invoking object-specific methods\n",
        "print(my_car1.accelerate())\n",
        "print(my_car1.brake())"
      ],
      "metadata": {
        "colab": {
          "base_uri": "https://localhost:8080/"
        },
        "id": "k0oTAlt6jJko",
        "outputId": "2821948d-d12a-4ae7-9851-e792da6664e2"
      },
      "execution_count": null,
      "outputs": [
        {
          "output_type": "stream",
          "name": "stdout",
          "text": [
            "The car is accelerating.\n",
            "None\n",
            "The car is braking.\n"
          ]
        }
      ]
    },
    {
      "cell_type": "markdown",
      "source": [
        "## Inheritance:\n",
        "\n",
        "- Inheritance is a fundamental concept in object-oriented programming that allows classes to inherit attributes and methods from other classes. It enables the creation of a hierarchical relationship between classes, where a subclass (derived class) can inherit the properties and behaviors of a superclass (base class).\n",
        "\n",
        "- Superclass/Base Class: A superclass, also known as a base class or parent class, is the class from which other classes inherit. It defines common attributes and methods that can be shared by multiple subclasses. It serves as a blueprint for creating subclasses.\n",
        "\n",
        "- Subclass/Derived Class: A subclass, also known as a derived class or child class, is a class that inherits attributes and methods from a superclass. It extends or specializes the superclass by adding its own unique attributes and methods or by overriding inherited ones.\n",
        "\n",
        "- Inheritance Syntax: In Python, inheritance is declared by specifying the superclass in parentheses after the subclass name when defining the class. For example: class Subclass(Superclass):.\n",
        "\n",
        "- Inherited Attributes and Methods: When a subclass inherits from a superclass, it automatically gains access to all the attributes and methods of the superclass. The subclass can use these inherited attributes and methods directly without redefining them.\n",
        "\n",
        "- Overriding Methods: Subclasses can override (replace) methods inherited from a superclass with their own implementations. This allows subclasses to provide specialized behaviors for specific instances. To override a method, the subclass defines a method with the same name in its own class.\n",
        "\n",
        "- Extending the Superclass: Subclasses can add additional attributes and methods that are specific to their own requirements. These additional features extend the functionality provided by the superclass and make the subclass unique.\n",
        "\n",
        "- Multiple Inheritance: Python supports multiple inheritance, which means a subclass can inherit from multiple superclasses. This allows the subclass to combine attributes and methods from multiple sources. Multiple inheritance is declared by specifying multiple superclasses separated by commas.\n",
        "\n",
        "- Inheritance Hierarchy: Inheritance can create a hierarchy of classes, where subclasses can further act as superclasses for other subclasses. This allows for a structured organization of classes based on their relationships and promotes code reuse and modularity.\n",
        "\n",
        "- Code Reusability: Inheritance promotes code reuse by allowing subclasses to inherit attributes and methods from a superclass. Instead of rewriting the same code in multiple classes, common behaviors and properties can be defined in the superclass and shared among multiple subclasses.\n",
        "\n",
        "- \"is-a\" Relationship: Inheritance models an \"is-a\" relationship between classes. A subclass is considered to be a specialized type of the superclass. For example, a Sedan class can be a subclass of a Car class, indicating that a sedan is a type of car.\n",
        "\n",
        "- Inheritance provides a powerful mechanism in object-oriented programming to create hierarchical relationships, promote code reuse, and build more specialized and modular code structures. It allows for the organization and modeling of classes based on their similarities and differences."
      ],
      "metadata": {
        "id": "kTLMJlWviE7_"
      }
    },
    {
      "cell_type": "code",
      "source": [
        "class Vehicle:\n",
        "    def __init__(self, color):\n",
        "        self.color = color\n",
        "\n",
        "    def drive(self):\n",
        "        print(\"The vehicle is driving.\")"
      ],
      "metadata": {
        "id": "8p_-28bZh9Ob"
      },
      "execution_count": null,
      "outputs": []
    },
    {
      "cell_type": "code",
      "source": [
        "class Car(Vehicle):\n",
        "    def __init__(self, color, model):\n",
        "        super().__init__(color)\n",
        "        self.model = model\n",
        "\n",
        "    def accelerate(self):\n",
        "        print(\"The car is accelerating.\")"
      ],
      "metadata": {
        "id": "R-jOVGB4rm8H"
      },
      "execution_count": null,
      "outputs": []
    },
    {
      "cell_type": "code",
      "source": [
        "class ElectricCar(Car):\n",
        "    def __init__(self, color, model, battery_capacity):\n",
        "        super().__init__(color, model)\n",
        "        self.battery_capacity = battery_capacity\n",
        "\n",
        "    def charge(self):\n",
        "        print(\"The electric car is charging.\")\n"
      ],
      "metadata": {
        "id": "-3xJDy2grtMI"
      },
      "execution_count": null,
      "outputs": []
    },
    {
      "cell_type": "code",
      "source": [
        "# Creating objects of different classes\n",
        "vehicle = Vehicle(\"Black\")\n",
        "car = Car(\"Red\", \"Sedan\")\n",
        "electric_car = ElectricCar(\"Blue\", \"SUV\", 5000)"
      ],
      "metadata": {
        "id": "dUnUcGv0rjFD"
      },
      "execution_count": null,
      "outputs": []
    },
    {
      "cell_type": "code",
      "source": [
        "# Accessing inherited attributes and methods\n",
        "print(vehicle.color)       # Output: Black\n",
        "vehicle.drive()            # Output: The vehicle is driving."
      ],
      "metadata": {
        "colab": {
          "base_uri": "https://localhost:8080/"
        },
        "id": "ind_XocOsU8D",
        "outputId": "147eb7bf-9094-4f06-f7c3-9a8b265bd083"
      },
      "execution_count": null,
      "outputs": [
        {
          "output_type": "stream",
          "name": "stdout",
          "text": [
            "Black\n",
            "The vehicle is driving.\n"
          ]
        }
      ]
    },
    {
      "cell_type": "code",
      "source": [
        "print(car.color)           # Output: Red\n",
        "print(car.model)           # Output: Sedan\n",
        "car.drive()                # Output: The vehicle is driving.\n",
        "car.accelerate()           # Output: The car is accelerating."
      ],
      "metadata": {
        "colab": {
          "base_uri": "https://localhost:8080/"
        },
        "id": "jH4oZYABsaLT",
        "outputId": "d7ede871-8f2b-4412-ee83-9e129ec51e6a"
      },
      "execution_count": null,
      "outputs": [
        {
          "output_type": "stream",
          "name": "stdout",
          "text": [
            "Red\n",
            "Sedan\n",
            "The vehicle is driving.\n",
            "The car is accelerating.\n"
          ]
        }
      ]
    },
    {
      "cell_type": "code",
      "source": [
        "print(electric_car.color)  # Output: Blue\n",
        "print(electric_car.model)  # Output: SUV\n",
        "print(electric_car.battery_capacity)  # Output: 5000\n",
        "electric_car.drive()       # Output: The vehicle is driving.\n",
        "electric_car.accelerate()  # Output: The car is accelerating.\n",
        "electric_car.charge()      # Output: The electric car is charging.\n"
      ],
      "metadata": {
        "colab": {
          "base_uri": "https://localhost:8080/"
        },
        "id": "zVI8Y4pXsgKI",
        "outputId": "c62139ad-d9e1-4c2b-f8fd-b3395001ee5f"
      },
      "execution_count": null,
      "outputs": [
        {
          "output_type": "stream",
          "name": "stdout",
          "text": [
            "Blue\n",
            "SUV\n",
            "5000\n",
            "The vehicle is driving.\n",
            "The car is accelerating.\n",
            "The electric car is charging.\n"
          ]
        }
      ]
    },
    {
      "cell_type": "markdown",
      "source": [
        "In this example, we have three classes: Vehicle, Car, and ElectricCar.\n",
        "\n",
        "The Vehicle class is the base class that defines the common attributes and methods for any vehicle, such as its color and ability to drive.\n",
        "\n",
        "The Car class is a subclass of Vehicle. It inherits the color attribute and drive() method from Vehicle, and also adds its own attribute model and method accelerate().\n",
        "\n",
        "The ElectricCar class is a subclass of Car. It inherits the color, model, and drive() attributes and methods from Car, and adds its own attribute battery_capacity and method charge().\n",
        "\n",
        "We create objects of each class (vehicle, car, and electric_car) and demonstrate how the inherited attributes and methods can be accessed and used."
      ],
      "metadata": {
        "id": "SDAF1LZhs3MI"
      }
    },
    {
      "cell_type": "markdown",
      "source": [
        "##Encapsulation\n",
        "- Encapsulation is one of the fundamental concepts in object-oriented programming (OOP) that focuses on bundling data and methods within a class, and controlling access to them from outside the class. It promotes data hiding and information protection, ensuring that the internal workings of an object are hidden and accessed only through a well-defined interface. In Python, encapsulation is achieved through the use of access modifiers and properties. Let's explore each aspect of encapsulation in detail:\n",
        "\n",
        "- Data Hiding: Encapsulation helps to hide the internal data of an object from the outside world. It prevents direct access to the internal state of an object, allowing it to maintain its integrity and preventing unauthorized modifications. This is achieved by marking the attributes and methods as private or protected.\n",
        "\n",
        "- Access Modifiers: Access modifiers define the accessibility of attributes and methods in a class. In Python, there are three types of access modifiers:\n",
        "\n",
        " * Public Access Modifier: Public attributes and methods are accessible from anywhere, both within the class and outside the class. In Python, by default, all attributes and methods are public.\n",
        "\n",
        " * Private Access Modifier: Private attributes and methods are accessible only within the class itself. They are denoted by prefixing the attribute or method name with double underscores (__). Python applies name mangling to make the attribute or method name unique to the class, preventing accidental access from outside the class.\n",
        "\n",
        " * Protected Access Modifier: Protected attributes and methods are accessible within the class and its subclasses. They are denoted by prefixing the attribute or method name with a single underscore (_). It is more of a convention rather than a strict enforcement in Python.\n",
        "\n",
        "- Getters and Setters: Encapsulation provides a controlled way to access and modify the internal attributes of an object using getters and setters. Getters are methods that retrieve the values of private attributes, while setters are methods that modify the values of private attributes. By encapsulating the attributes and providing access through methods, you can enforce validation, perform additional logic, or maintain consistency before allowing changes to the attribute values.\n",
        "\n",
        "- Properties: Properties provide a Pythonic way to define getters and setters for attributes. They allow you to access and modify private attributes using the syntax of accessing or modifying a regular attribute. Properties are defined using the @property decorator for the getter method and the @attribute_name.setter decorator for the setter method. They provide a clean and intuitive way to implement encapsulation while maintaining a consistent interface.\n",
        "\n",
        "- Encapsulation helps in achieving information hiding, data protection, and code organization. It promotes a modular design, as objects encapsulate their data and behaviors, making them independent entities that can be easily maintained and extended."
      ],
      "metadata": {
        "id": "4FStHJ8Ita-y"
      }
    },
    {
      "cell_type": "code",
      "source": [
        "class BankAccount:\n",
        "    def __init__(self):\n",
        "        self.__balance = 0   # Private attribute\n",
        "\n",
        "    def deposit(self, amount):\n",
        "        if amount > 0:\n",
        "            self.__balance += amount\n",
        "\n",
        "    def withdraw(self, amount):\n",
        "        if amount > 0 and amount <= self.__balance:\n",
        "            self.__balance -= amount\n",
        "\n",
        "    def get_balance(self):\n",
        "        return self.__balance\n",
        "\n",
        "    def set_balance(self, new_balance):\n",
        "        if new_balance >= 0:\n",
        "            self.__balance = new_balance\n",
        "\n",
        "    balance = property(get_balance, set_balance)"
      ],
      "metadata": {
        "id": "hQtDh1I0tZ4G"
      },
      "execution_count": null,
      "outputs": []
    },
    {
      "cell_type": "code",
      "source": [
        "# Creating an object of the BankAccount class\n",
        "account = BankAccount()\n",
        "# Accessing and modifying the balance using methods\n",
        "account.deposit(1000)\n",
        "account.withdraw(500)\n",
        "print(account.get_balance())  # Output: 500"
      ],
      "metadata": {
        "colab": {
          "base_uri": "https://localhost:8080/"
        },
        "id": "zWqJ31Pbs4Bp",
        "outputId": "076d16e1-2cbe-487b-f289-85e49d9587a5"
      },
      "execution_count": null,
      "outputs": [
        {
          "output_type": "stream",
          "name": "stdout",
          "text": [
            "500\n"
          ]
        }
      ]
    },
    {
      "cell_type": "code",
      "source": [
        "account.set_balance(1500)\n",
        "print(account.get_balance())  # Output: 1500"
      ],
      "metadata": {
        "colab": {
          "base_uri": "https://localhost:8080/"
        },
        "id": "R6QvYKbyzlez",
        "outputId": "bff2aef7-2865-41be-9573-56e96f01e57b"
      },
      "execution_count": null,
      "outputs": [
        {
          "output_type": "stream",
          "name": "stdout",
          "text": [
            "1500\n"
          ]
        }
      ]
    },
    {
      "cell_type": "code",
      "source": [
        "# Accessing and modifying the balance using properties\n",
        "account.balance += 500\n",
        "print(account.balance)        # Output:"
      ],
      "metadata": {
        "colab": {
          "base_uri": "https://localhost:8080/"
        },
        "id": "hANjnHRSzqGZ",
        "outputId": "77f8bf04-2904-42d5-dd38-83b54752a042"
      },
      "execution_count": null,
      "outputs": [
        {
          "output_type": "stream",
          "name": "stdout",
          "text": [
            "2000\n"
          ]
        }
      ]
    },
    {
      "cell_type": "markdown",
      "source": [
        "##Polymorphism\n",
        "- Polymorphism is a key concept in object-oriented programming (OOP) that allows objects of different classes to be treated as objects of a common superclass. It enables objects to be used interchangeably, providing a flexible and extensible approach to programming Polymorphism is achieved through method overriding and method overloading. Let's explore each aspect of polymorphism in detail:\n",
        "\n",
        "- Method Overriding: Method overriding is the ability of a subclass to provide a different implementation of a method that is already defined in its superclass. It allows a subclass to redefine the behavior of a method inherited from the superclass according to its specific needs. The overridden method in the subclass has the same name and signature (i.e., same method name and parameters) as the method in the superclass. When the method is called on an object of the subclass, the overridden method in the subclass is executed instead of the method in the superclass.\n",
        "\n",
        "- Method Overloading: Method overloading is the ability to define multiple methods with the same name but different parameters in a class. It allows a class to have multiple methods with the same name, but each method performs a different action based on the type and number of parameters passed to it. Python does not support traditional method overloading based on parameter types like some other languages, but it supports a form of method overloading using default arguments and variable arguments.\n",
        "\n",
        "- Polymorphic Behavior: Polymorphism allows objects of different classes that inherit from a common superclass to be treated as objects of that superclass. This means that you can write code that operates on objects of the superclass, and it will work with any object of any subclass that inherits from that superclass. This promotes code reuse, modularity, and extensibility, as new subclasses can be added without modifying existing code that uses the superclass.\n",
        "\n",
        "- Duck Typing: Python follows a principle called \"duck typing,\" which is a form of dynamic typing. It means that the type or class of an object is determined by its behavior or the methods it defines, rather than its explicit type. In other words, if an object walks like a duck and quacks like a duck, it is considered a duck. This allows Python to achieve polymorphism naturally, as long as objects provide the necessary methods.\n",
        "\n",
        "- Polymorphic Functions: Python functions can also exhibit polymorphic behavior. This means that a function can accept different types of arguments and perform different actions based on the type of the arguments. Functions can use conditional statements or type-checking techniques to determine the appropriate behavior based on the argument types."
      ],
      "metadata": {
        "id": "1AXUGZy30tjb"
      }
    },
    {
      "cell_type": "code",
      "source": [
        "class Animal:\n",
        "    def speak(self):\n",
        "        print(\"The animal makes a sound.\")"
      ],
      "metadata": {
        "id": "NzXOjhiv05_s"
      },
      "execution_count": null,
      "outputs": []
    },
    {
      "cell_type": "code",
      "source": [
        "class Dog(Animal):\n",
        "    def speak(self):\n",
        "        print(\"The dog barks.\")"
      ],
      "metadata": {
        "id": "DxertHPt15qZ"
      },
      "execution_count": null,
      "outputs": []
    },
    {
      "cell_type": "code",
      "source": [
        "class Cat(Animal):\n",
        "    def speak(self):\n",
        "        print(\"The cat meows.\")"
      ],
      "metadata": {
        "id": "9_dAsuUh19X2"
      },
      "execution_count": null,
      "outputs": []
    },
    {
      "cell_type": "code",
      "source": [
        "def make_speak(animal):\n",
        "    animal.speak()"
      ],
      "metadata": {
        "id": "403U6WKs2CFi"
      },
      "execution_count": null,
      "outputs": []
    },
    {
      "cell_type": "code",
      "source": [
        "# Creating objects of different classes\n",
        "animal = Animal()\n",
        "dog = Dog()\n",
        "cat = Cat()"
      ],
      "metadata": {
        "id": "anmyGwXf2FN7"
      },
      "execution_count": null,
      "outputs": []
    },
    {
      "cell_type": "code",
      "source": [
        "# Polymorphic behavior\n",
        "make_speak(animal)  # Output: The animal makes a sound."
      ],
      "metadata": {
        "colab": {
          "base_uri": "https://localhost:8080/"
        },
        "id": "PU0mFXAn2J0X",
        "outputId": "f4426100-ee0c-4c8d-85cc-c0f8f0554acb"
      },
      "execution_count": null,
      "outputs": [
        {
          "output_type": "stream",
          "name": "stdout",
          "text": [
            "The animal makes a sound.\n"
          ]
        }
      ]
    },
    {
      "cell_type": "code",
      "source": [
        "make_speak(dog)    # Output: The dog barks."
      ],
      "metadata": {
        "colab": {
          "base_uri": "https://localhost:8080/"
        },
        "id": "uy34CmUz2NL_",
        "outputId": "e931415e-0685-4156-e89a-9d13e054e976"
      },
      "execution_count": null,
      "outputs": [
        {
          "output_type": "stream",
          "name": "stdout",
          "text": [
            "The dog barks.\n"
          ]
        }
      ]
    },
    {
      "cell_type": "code",
      "source": [
        "make_speak(cat)    # Output: The cat meows."
      ],
      "metadata": {
        "colab": {
          "base_uri": "https://localhost:8080/"
        },
        "id": "H4SAmgHX2Pwh",
        "outputId": "eaeb6873-3e77-415e-91cd-e6f1caa2a140"
      },
      "execution_count": null,
      "outputs": [
        {
          "output_type": "stream",
          "name": "stdout",
          "text": [
            "The cat meows.\n"
          ]
        }
      ]
    },
    {
      "cell_type": "markdown",
      "source": [
        "# 4. Libraries and Modules:\n",
        "- Explore Python's standard library and popular third-party modules. Become familiar with modules like\n",
        " * `math`,\n",
        " * `random`,\n",
        " *  `datetime`,\n",
        "- and libraries like\n",
        " * `NumPy`,\n",
        " * `Pandas`,\n",
        " * `requests`.\n",
        "- Understand how to import and use these modules in your programs."
      ],
      "metadata": {
        "id": "vEtxO4J420cp"
      }
    },
    {
      "cell_type": "code",
      "source": [],
      "metadata": {
        "id": "QaC6PX0F27K-"
      },
      "execution_count": null,
      "outputs": []
    }
  ]
}