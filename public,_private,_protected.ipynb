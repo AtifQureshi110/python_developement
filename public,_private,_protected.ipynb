{
  "nbformat": 4,
  "nbformat_minor": 0,
  "metadata": {
    "colab": {
      "provenance": [],
      "collapsed_sections": [
        "Y6l5Kk4zFizE",
        "N5yiC6lAHmpx",
        "OS6__GLYzthx"
      ],
      "authorship_tag": "ABX9TyOmDLJexi4adMXSKdHPiJUA",
      "include_colab_link": true
    },
    "kernelspec": {
      "name": "python3",
      "display_name": "Python 3"
    },
    "language_info": {
      "name": "python"
    }
  },
  "cells": [
    {
      "cell_type": "markdown",
      "metadata": {
        "id": "view-in-github",
        "colab_type": "text"
      },
      "source": [
        "<a href=\"https://colab.research.google.com/github/AtifQureshi110/python_developement/blob/main/public%2C_private%2C_protected.ipynb\" target=\"_parent\"><img src=\"https://colab.research.google.com/assets/colab-badge.svg\" alt=\"Open In Colab\"/></a>"
      ]
    },
    {
      "cell_type": "markdown",
      "source": [
        "# Access modifier\n",
        "- public\n",
        "- private\n",
        "- protected"
      ],
      "metadata": {
        "id": "Y6l5Kk4zFizE"
      }
    },
    {
      "cell_type": "markdown",
      "source": [
        "- **public**: all class variables are public by default, the class level is also called static variables, and all instance variables are also public by default, public means anywhere it can be accessed inside, or outside the class."
      ],
      "metadata": {
        "id": "BomOyZu0yVzU"
      }
    },
    {
      "cell_type": "code",
      "source": [
        "### All the class variables are public\n",
        "# __init__ is a contractor/initializer method.\n",
        "# this is way to declear the variables as public.\n",
        "class Car():\n",
        "    def __init__(self,windows,doors,enginetype):\n",
        "        self.windows=windows\n",
        "        self.doors=doors\n",
        "        self.enginetype=enginetype\n",
        ""
      ],
      "metadata": {
        "id": "k1p3HUtryYKo"
      },
      "execution_count": null,
      "outputs": []
    },
    {
      "cell_type": "code",
      "source": [
        "audi=Car(4,5,\"Diesel\")# audi is a blue print of this class."
      ],
      "metadata": {
        "id": "xb1Y2z_xyLVH"
      },
      "execution_count": null,
      "outputs": []
    },
    {
      "cell_type": "code",
      "source": [
        "audi #this basically an object of Car which store at 0x7ffa42c2a260 in memory."
      ],
      "metadata": {
        "colab": {
          "base_uri": "https://localhost:8080/"
        },
        "id": "9ukrmuKnzzKB",
        "outputId": "c8486210-48b2-461e-a236-2fb6af2c1cb8"
      },
      "execution_count": null,
      "outputs": [
        {
          "output_type": "execute_result",
          "data": {
            "text/plain": [
              "<__main__.Car at 0x7ffa29ee24d0>"
            ]
          },
          "metadata": {},
          "execution_count": 65
        }
      ]
    },
    {
      "cell_type": "code",
      "source": [
        "display(audi.windows)\n",
        "display(audi.doors)\n",
        "display(audi.enginetype)"
      ],
      "metadata": {
        "colab": {
          "base_uri": "https://localhost:8080/",
          "height": 70
        },
        "id": "RD5kDe-B0Md0",
        "outputId": "b229a02b-41e8-4182-ac67-40c70a1420a2"
      },
      "execution_count": null,
      "outputs": [
        {
          "output_type": "display_data",
          "data": {
            "text/plain": [
              "4"
            ]
          },
          "metadata": {}
        },
        {
          "output_type": "display_data",
          "data": {
            "text/plain": [
              "5"
            ]
          },
          "metadata": {}
        },
        {
          "output_type": "display_data",
          "data": {
            "text/plain": [
              "'Diesel'"
            ],
            "application/vnd.google.colaboratory.intrinsic+json": {
              "type": "string"
            }
          },
          "metadata": {}
        }
      ]
    },
    {
      "cell_type": "code",
      "source": [
        "for audi_variable in vars(audi): # vars(audi) is a built-in Python function that returns a dictionary containing all the attributes of the audi instance as key-value pairs,\n",
        "    display(getattr(audi, audi_variable)) # The getattr() built-in Python function that takes two arguments: the first argument is the instance of the object from which we want to get the attribute value, and the second argument is the name of the attribute whose value we want to retrieve. I\n"
      ],
      "metadata": {
        "colab": {
          "base_uri": "https://localhost:8080/",
          "height": 70
        },
        "id": "uU1ZMfs21JIv",
        "outputId": "2409ce35-abab-4915-d275-05e32bb0cf9b"
      },
      "execution_count": null,
      "outputs": [
        {
          "output_type": "display_data",
          "data": {
            "text/plain": [
              "4"
            ]
          },
          "metadata": {}
        },
        {
          "output_type": "display_data",
          "data": {
            "text/plain": [
              "5"
            ]
          },
          "metadata": {}
        },
        {
          "output_type": "display_data",
          "data": {
            "text/plain": [
              "'Diesel'"
            ],
            "application/vnd.google.colaboratory.intrinsic+json": {
              "type": "string"
            }
          },
          "metadata": {}
        }
      ]
    },
    {
      "cell_type": "code",
      "source": [
        "dir(audi) # it shows all the variables of class and their nature by single, double and no underscore"
      ],
      "metadata": {
        "colab": {
          "base_uri": "https://localhost:8080/"
        },
        "id": "7kycRFSw3y8Q",
        "outputId": "b8d80127-4cbb-47e8-8c39-edebd3127bac"
      },
      "execution_count": null,
      "outputs": [
        {
          "output_type": "execute_result",
          "data": {
            "text/plain": [
              "['__class__',\n",
              " '__delattr__',\n",
              " '__dict__',\n",
              " '__dir__',\n",
              " '__doc__',\n",
              " '__eq__',\n",
              " '__format__',\n",
              " '__ge__',\n",
              " '__getattribute__',\n",
              " '__gt__',\n",
              " '__hash__',\n",
              " '__init__',\n",
              " '__init_subclass__',\n",
              " '__le__',\n",
              " '__lt__',\n",
              " '__module__',\n",
              " '__ne__',\n",
              " '__new__',\n",
              " '__reduce__',\n",
              " '__reduce_ex__',\n",
              " '__repr__',\n",
              " '__setattr__',\n",
              " '__sizeof__',\n",
              " '__str__',\n",
              " '__subclasshook__',\n",
              " '__weakref__',\n",
              " 'doors',\n",
              " 'enginetype',\n",
              " 'windows']"
            ]
          },
          "metadata": {},
          "execution_count": 68
        }
      ]
    },
    {
      "cell_type": "markdown",
      "source": [
        "- **protected**:usually it said that protect variables are only access by sub_class, but it is not like that you can not access anywhere b/c python never restricts them, as other languages do.\n",
        "- make the variables as protect use underScore(_) with each variables, it will become protected variable.\n",
        "-All the class variables are protected\n",
        "- Python is a non-type language means you do not need to define the type of variables too much.\n",
        "- python is a lossy type"
      ],
      "metadata": {
        "id": "JcxUMmIH8tx_"
      }
    },
    {
      "cell_type": "code",
      "source": [
        "class Car01():\n",
        "    def __init__(self,windows,doors,enginetype):\n",
        "        self._windows=windows\n",
        "        self._doors=doors\n",
        "        self._enginetype=enginetype"
      ],
      "metadata": {
        "id": "d-duFSbD4n0N"
      },
      "execution_count": null,
      "outputs": []
    },
    {
      "cell_type": "code",
      "source": [
        "audi01=Car01(41,4,\"Diesel\")"
      ],
      "metadata": {
        "id": "zboDujz04neh"
      },
      "execution_count": null,
      "outputs": []
    },
    {
      "cell_type": "code",
      "source": [
        "dir(audi01)"
      ],
      "metadata": {
        "colab": {
          "base_uri": "https://localhost:8080/"
        },
        "id": "oUoCskfd4mMY",
        "outputId": "4a5c97f6-1822-4b97-b798-02bbda1acf06"
      },
      "execution_count": null,
      "outputs": [
        {
          "output_type": "execute_result",
          "data": {
            "text/plain": [
              "['__class__',\n",
              " '__delattr__',\n",
              " '__dict__',\n",
              " '__dir__',\n",
              " '__doc__',\n",
              " '__eq__',\n",
              " '__format__',\n",
              " '__ge__',\n",
              " '__getattribute__',\n",
              " '__gt__',\n",
              " '__hash__',\n",
              " '__init__',\n",
              " '__init_subclass__',\n",
              " '__le__',\n",
              " '__lt__',\n",
              " '__module__',\n",
              " '__ne__',\n",
              " '__new__',\n",
              " '__reduce__',\n",
              " '__reduce_ex__',\n",
              " '__repr__',\n",
              " '__setattr__',\n",
              " '__sizeof__',\n",
              " '__str__',\n",
              " '__subclasshook__',\n",
              " '__weakref__',\n",
              " '_doors',\n",
              " '_enginetype',\n",
              " '_windows']"
            ]
          },
          "metadata": {},
          "execution_count": 71
        }
      ]
    },
    {
      "cell_type": "code",
      "source": [
        "for audi_variable in vars(audi01): # vars(audi) is a built-in Python function that returns a dictionary containing all the attributes of the audi instance as key-value pairs,\n",
        "    display(getattr(audi01, audi_variable)) # The getattr() built-in Python function that takes two arguments: the first argument is the instance of the object from which we want to get the attribute value, and the second argument is the name of the attribute whose value we want to retrieve. I\n",
        "    display(audi_variable)"
      ],
      "metadata": {
        "colab": {
          "base_uri": "https://localhost:8080/",
          "height": 125
        },
        "id": "czBepu9s90Iq",
        "outputId": "e45f7862-73e9-4b42-b9b2-49aac5454355"
      },
      "execution_count": null,
      "outputs": [
        {
          "output_type": "display_data",
          "data": {
            "text/plain": [
              "41"
            ]
          },
          "metadata": {}
        },
        {
          "output_type": "display_data",
          "data": {
            "text/plain": [
              "'_windows'"
            ],
            "application/vnd.google.colaboratory.intrinsic+json": {
              "type": "string"
            }
          },
          "metadata": {}
        },
        {
          "output_type": "display_data",
          "data": {
            "text/plain": [
              "4"
            ]
          },
          "metadata": {}
        },
        {
          "output_type": "display_data",
          "data": {
            "text/plain": [
              "'_doors'"
            ],
            "application/vnd.google.colaboratory.intrinsic+json": {
              "type": "string"
            }
          },
          "metadata": {}
        },
        {
          "output_type": "display_data",
          "data": {
            "text/plain": [
              "'Diesel'"
            ],
            "application/vnd.google.colaboratory.intrinsic+json": {
              "type": "string"
            }
          },
          "metadata": {}
        },
        {
          "output_type": "display_data",
          "data": {
            "text/plain": [
              "'_enginetype'"
            ],
            "application/vnd.google.colaboratory.intrinsic+json": {
              "type": "string"
            }
          },
          "metadata": {}
        }
      ]
    },
    {
      "cell_type": "code",
      "source": [
        "audi01._windows=90 # this overridden"
      ],
      "metadata": {
        "id": "mq0zucDn-Hxq"
      },
      "execution_count": null,
      "outputs": []
    },
    {
      "cell_type": "code",
      "source": [
        "audi01._windows"
      ],
      "metadata": {
        "colab": {
          "base_uri": "https://localhost:8080/"
        },
        "id": "F9JuHgH8-N8l",
        "outputId": "17660af4-eedc-459f-fe09-d38b9275df1b"
      },
      "execution_count": null,
      "outputs": [
        {
          "output_type": "execute_result",
          "data": {
            "text/plain": [
              "90"
            ]
          },
          "metadata": {},
          "execution_count": 74
        }
      ]
    },
    {
      "cell_type": "code",
      "source": [
        "#inheritance\n",
        "class Truck(Car01):\n",
        "    def __init__(self,windows,doors,enginetype,horsepower):\n",
        "        super().__init__(windows,doors,enginetype)\n",
        "        self.horsepowwer=horsepower"
      ],
      "metadata": {
        "id": "bZ0UOShV-M6h"
      },
      "execution_count": null,
      "outputs": []
    },
    {
      "cell_type": "code",
      "source": [
        "truck=Truck(4,4,\"Diesel\",4000)"
      ],
      "metadata": {
        "id": "7TGUc2Kq_8uv"
      },
      "execution_count": null,
      "outputs": []
    },
    {
      "cell_type": "code",
      "source": [
        "truck"
      ],
      "metadata": {
        "colab": {
          "base_uri": "https://localhost:8080/"
        },
        "id": "Kw4zqCGx_9cF",
        "outputId": "db2df5af-cdd5-4dce-d62c-ec2bfcbc37f3"
      },
      "execution_count": null,
      "outputs": [
        {
          "output_type": "execute_result",
          "data": {
            "text/plain": [
              "<__main__.Truck at 0x7ffa29ee17b0>"
            ]
          },
          "metadata": {},
          "execution_count": 77
        }
      ]
    },
    {
      "cell_type": "code",
      "source": [
        "truck._windows, truck._enginetype, truck._doors, truck.horsepowwer"
      ],
      "metadata": {
        "colab": {
          "base_uri": "https://localhost:8080/"
        },
        "id": "hkE_jBoZ_9t5",
        "outputId": "49cb68cd-3cea-44d5-a4ea-7effe306be87"
      },
      "execution_count": null,
      "outputs": [
        {
          "output_type": "execute_result",
          "data": {
            "text/plain": [
              "(4, 'Diesel', 4, 4000)"
            ]
          },
          "metadata": {},
          "execution_count": 78
        }
      ]
    },
    {
      "cell_type": "code",
      "source": [
        "dir(truck)"
      ],
      "metadata": {
        "colab": {
          "base_uri": "https://localhost:8080/"
        },
        "id": "Ib3QZsrzAnjY",
        "outputId": "2dcb1cd6-e0e0-4fab-c091-49f7ffd721de"
      },
      "execution_count": null,
      "outputs": [
        {
          "output_type": "execute_result",
          "data": {
            "text/plain": [
              "['__class__',\n",
              " '__delattr__',\n",
              " '__dict__',\n",
              " '__dir__',\n",
              " '__doc__',\n",
              " '__eq__',\n",
              " '__format__',\n",
              " '__ge__',\n",
              " '__getattribute__',\n",
              " '__gt__',\n",
              " '__hash__',\n",
              " '__init__',\n",
              " '__init_subclass__',\n",
              " '__le__',\n",
              " '__lt__',\n",
              " '__module__',\n",
              " '__ne__',\n",
              " '__new__',\n",
              " '__reduce__',\n",
              " '__reduce_ex__',\n",
              " '__repr__',\n",
              " '__setattr__',\n",
              " '__sizeof__',\n",
              " '__str__',\n",
              " '__subclasshook__',\n",
              " '__weakref__',\n",
              " '_doors',\n",
              " '_enginetype',\n",
              " '_windows',\n",
              " 'horsepowwer']"
            ]
          },
          "metadata": {},
          "execution_count": 79
        }
      ]
    },
    {
      "cell_type": "markdown",
      "source": [
        "- **private**: it can be said that can notbe inherited or overridden or access from anywhere, meanwhile variable can not use outside that class, every modification goes inside the class only.\n",
        "- but python does not restrict it as you know from protected variables.\n",
        "-to make the variable private use double underscore(__)."
      ],
      "metadata": {
        "id": "IObSNbuX8y-v"
      }
    },
    {
      "cell_type": "code",
      "source": [
        "### private\n",
        "class Car02():\n",
        "    def __init__(self,windows,doors,enginetype):\n",
        "        self.__windows=windows\n",
        "        self.__doors=doors\n",
        "        self.__enginetype=enginetype"
      ],
      "metadata": {
        "id": "qECLuvRNA1H5"
      },
      "execution_count": null,
      "outputs": []
    },
    {
      "cell_type": "code",
      "source": [
        "audi02=Car02(4,4,\"Diesel\")"
      ],
      "metadata": {
        "id": "snDLcdjJCWGC"
      },
      "execution_count": null,
      "outputs": []
    },
    {
      "cell_type": "code",
      "source": [
        "dir(audi02)"
      ],
      "metadata": {
        "colab": {
          "base_uri": "https://localhost:8080/"
        },
        "id": "thCrkzz4A1mt",
        "outputId": "e95de70d-c016-4c88-9197-f62f958aeaea"
      },
      "execution_count": null,
      "outputs": [
        {
          "output_type": "execute_result",
          "data": {
            "text/plain": [
              "['_Car02__doors',\n",
              " '_Car02__enginetype',\n",
              " '_Car02__windows',\n",
              " '__class__',\n",
              " '__delattr__',\n",
              " '__dict__',\n",
              " '__dir__',\n",
              " '__doc__',\n",
              " '__eq__',\n",
              " '__format__',\n",
              " '__ge__',\n",
              " '__getattribute__',\n",
              " '__gt__',\n",
              " '__hash__',\n",
              " '__init__',\n",
              " '__init_subclass__',\n",
              " '__le__',\n",
              " '__lt__',\n",
              " '__module__',\n",
              " '__ne__',\n",
              " '__new__',\n",
              " '__reduce__',\n",
              " '__reduce_ex__',\n",
              " '__repr__',\n",
              " '__setattr__',\n",
              " '__sizeof__',\n",
              " '__str__',\n",
              " '__subclasshook__',\n",
              " '__weakref__']"
            ]
          },
          "metadata": {},
          "execution_count": 82
        }
      ]
    },
    {
      "cell_type": "markdown",
      "source": [],
      "metadata": {
        "id": "tigawiehVXxC"
      }
    },
    {
      "cell_type": "markdown",
      "source": [
        "# Python Decorators\n",
        "- function copy\n",
        "- closures\n",
        "- decorators"
      ],
      "metadata": {
        "id": "c1cNFHKWN9vd"
      }
    },
    {
      "cell_type": "markdown",
      "source": [
        "# function copy"
      ],
      "metadata": {
        "id": "HTVvEiVCULDI"
      }
    },
    {
      "cell_type": "code",
      "source": [
        "def welcome():\n",
        "    return \"learning decorators and closures\""
      ],
      "metadata": {
        "id": "D51QYWnJODA1"
      },
      "execution_count": null,
      "outputs": []
    },
    {
      "cell_type": "code",
      "source": [
        "well = welcome()"
      ],
      "metadata": {
        "id": "njPO8MvaJF7u"
      },
      "execution_count": null,
      "outputs": []
    },
    {
      "cell_type": "code",
      "source": [
        "well"
      ],
      "metadata": {
        "colab": {
          "base_uri": "https://localhost:8080/",
          "height": 35
        },
        "id": "16ZJ-6BMOQ80",
        "outputId": "bd774f49-5406-4183-cf2d-2e680658a877"
      },
      "execution_count": null,
      "outputs": [
        {
          "output_type": "execute_result",
          "data": {
            "text/plain": [
              "'learning decorators and closures'"
            ],
            "application/vnd.google.colaboratory.intrinsic+json": {
              "type": "string"
            }
          },
          "metadata": {},
          "execution_count": 14
        }
      ]
    },
    {
      "cell_type": "code",
      "source": [
        "welcome()"
      ],
      "metadata": {
        "colab": {
          "base_uri": "https://localhost:8080/",
          "height": 35
        },
        "id": "ZqSg91pHOQ_q",
        "outputId": "0a8d67be-690f-427d-bdf6-e73353cfd8da"
      },
      "execution_count": null,
      "outputs": [
        {
          "output_type": "execute_result",
          "data": {
            "text/plain": [
              "'learning decorators and closures'"
            ],
            "application/vnd.google.colaboratory.intrinsic+json": {
              "type": "string"
            }
          },
          "metadata": {},
          "execution_count": 16
        }
      ]
    },
    {
      "cell_type": "code",
      "source": [
        "del welcome\n",
        "\"\"\"interview question: after assigning welcome function to the wel,\n",
        "meanwhile if welcome function is deleted then will wel variable has the output of welcome function.\"\"\""
      ],
      "metadata": {
        "colab": {
          "base_uri": "https://localhost:8080/",
          "height": 53
        },
        "id": "dV16gV0WORCe",
        "outputId": "ebf6309b-0a80-47e7-9507-29db76660c43"
      },
      "execution_count": null,
      "outputs": [
        {
          "output_type": "execute_result",
          "data": {
            "text/plain": [
              "'interview question: after assigning welcome function to the wel,\\nmeanwhile if welcome function is deleted then will wel variable has the output of welcome function.'"
            ],
            "application/vnd.google.colaboratory.intrinsic+json": {
              "type": "string"
            }
          },
          "metadata": {},
          "execution_count": 17
        }
      ]
    },
    {
      "cell_type": "code",
      "source": [
        "well # this called function copy"
      ],
      "metadata": {
        "colab": {
          "base_uri": "https://localhost:8080/",
          "height": 35
        },
        "id": "9nTL5i44ORFR",
        "outputId": "c186f7ee-9c25-4be5-cb71-47d82ee5aed8"
      },
      "execution_count": null,
      "outputs": [
        {
          "output_type": "execute_result",
          "data": {
            "text/plain": [
              "'learning decorators and closures'"
            ],
            "application/vnd.google.colaboratory.intrinsic+json": {
              "type": "string"
            }
          },
          "metadata": {},
          "execution_count": 18
        }
      ]
    },
    {
      "cell_type": "code",
      "source": [
        "try:\n",
        "  welcome()\n",
        "except NameError:\n",
        "  print('This function has been delected.')"
      ],
      "metadata": {
        "colab": {
          "base_uri": "https://localhost:8080/"
        },
        "id": "idKRv0RGORK8",
        "outputId": "c89b7b9a-0bdb-4a3e-bb6d-34f42ff8d39b"
      },
      "execution_count": null,
      "outputs": [
        {
          "output_type": "stream",
          "name": "stdout",
          "text": [
            "This function has been delected.\n"
          ]
        }
      ]
    },
    {
      "cell_type": "markdown",
      "source": [
        "# Closures:\n",
        "- function inside function is called closures function."
      ],
      "metadata": {
        "id": "wun92KUNV-UH"
      }
    },
    {
      "cell_type": "code",
      "source": [
        "def main_welcome():\n",
        "  mas = \"Hello everyOne\"\n",
        "  # this function is most important to understand closures.\n",
        "  def sub_welcome_class():\n",
        "    print(\"Welcome To AI club\")\n",
        "    print(mas)\n",
        "    print(\"Please work on it, may be you shine like a star in your domain\")\n",
        "  return sub_welcome_class()\n",
        "main_welcome()\n",
        "# this is example of Closures."
      ],
      "metadata": {
        "colab": {
          "base_uri": "https://localhost:8080/"
        },
        "outputId": "44937b7b-4240-4110-cd3b-7418cda3cf70",
        "id": "oCQeoULqV-UH"
      },
      "execution_count": null,
      "outputs": [
        {
          "output_type": "stream",
          "name": "stdout",
          "text": [
            "Welcome To AI club\n",
            "Hello everyOne\n",
            "Please work on it, may be you shine like a star in your domain\n"
          ]
        }
      ]
    },
    {
      "cell_type": "code",
      "source": [
        "def main_welcome(mas):\n",
        "  # this function is most important to understand closures.\n",
        "  def sub_welcome_class():\n",
        "    print(\"Welcome To AI club\")\n",
        "    print(mas)\n",
        "    print(\"Please work on it, may be you shine like a star in your domain\")\n",
        "  return sub_welcome_class()\n",
        "main_welcome(\"Hello everyOne\")\n",
        "# this is example of Closures."
      ],
      "metadata": {
        "colab": {
          "base_uri": "https://localhost:8080/"
        },
        "outputId": "74e9b53a-86b6-432d-9b59-81e2b46be228",
        "id": "efBwgSlbV-UI"
      },
      "execution_count": null,
      "outputs": [
        {
          "output_type": "stream",
          "name": "stdout",
          "text": [
            "Welcome To AI club\n",
            "Hello everyOne\n",
            "Please work on it, may be you shine like a star in your domain\n"
          ]
        }
      ]
    },
    {
      "cell_type": "markdown",
      "source": [
        "# decorators"
      ],
      "metadata": {
        "id": "5iM_cINIUcbC"
      }
    },
    {
      "cell_type": "code",
      "source": [
        "# closures and initial decorators\n",
        "def main_welcome(func):\n",
        "  def sub_welcome_class():\n",
        "    print(\"Welcome To AI club\")\n",
        "    func()\n",
        "    print(\"Please work on it, may be you shine like a star in your domain\")\n",
        "    print('This is with respect to in_build function')\n",
        "  return sub_welcome_class()"
      ],
      "metadata": {
        "id": "UEKVaW5TUskx"
      },
      "execution_count": null,
      "outputs": []
    },
    {
      "cell_type": "code",
      "source": [
        "main_welcome(print)"
      ],
      "metadata": {
        "colab": {
          "base_uri": "https://localhost:8080/"
        },
        "id": "G_wJ7K6MUu5b",
        "outputId": "530cd966-87e9-4d74-8ec1-25dce821dad4"
      },
      "execution_count": null,
      "outputs": [
        {
          "output_type": "stream",
          "name": "stdout",
          "text": [
            "Welcome To AI club\n",
            "\n",
            "Please work on it, may be you shine like a star in your domain\n",
            "This is with respect to in_build function\n"
          ]
        }
      ]
    },
    {
      "cell_type": "code",
      "source": [
        "# closures and initial decorators\n",
        "def main_welcome(func):\n",
        "  def sub_welcome_class():\n",
        "    print(\"Welcome To AI club\")\n",
        "    print(func([1,4,6,8,5,4,9,3]))\n",
        "    print(\"Please work on it, may be you shine like a star in your domain\")\n",
        "    print('what I make my own function')\n",
        "  return sub_welcome_class()"
      ],
      "metadata": {
        "id": "IuzNkVl2UusJ"
      },
      "execution_count": null,
      "outputs": []
    },
    {
      "cell_type": "code",
      "source": [
        "main_welcome(len)"
      ],
      "metadata": {
        "colab": {
          "base_uri": "https://localhost:8080/"
        },
        "id": "poYuZkicUud4",
        "outputId": "7d53babe-17bf-4392-949c-f8213a2d9df7"
      },
      "execution_count": null,
      "outputs": [
        {
          "output_type": "stream",
          "name": "stdout",
          "text": [
            "Welcome To AI club\n",
            "8\n",
            "Please work on it, may be you shine like a star in your domain\n",
            "what I make my own function\n"
          ]
        }
      ]
    },
    {
      "cell_type": "code",
      "source": [
        "# can I create my own function and give it as parameter overthere\n",
        "# Decorators\n",
        "def main_welcome(func):\n",
        "    def sub_welcome_class():\n",
        "      print(\"Welcome To AI club\")\n",
        "      func()\n",
        "      print(\"Please work on it, may be you shine like a star in your domain\")\n",
        "    return sub_welcome_class()"
      ],
      "metadata": {
        "id": "DjxehIT_UuN7"
      },
      "execution_count": null,
      "outputs": []
    },
    {
      "cell_type": "code",
      "source": [
        "def one_way_calling_decorator():\n",
        "    print(\"I have define my custom function\")"
      ],
      "metadata": {
        "id": "9Zd3n2DOUr-p"
      },
      "execution_count": null,
      "outputs": []
    },
    {
      "cell_type": "code",
      "source": [
        "main_welcome(one_way_calling_decorator)"
      ],
      "metadata": {
        "colab": {
          "base_uri": "https://localhost:8080/"
        },
        "id": "sOj5tfSKb9o_",
        "outputId": "860d4b50-626c-4aaf-d34d-1c898122bc10"
      },
      "execution_count": null,
      "outputs": [
        {
          "output_type": "stream",
          "name": "stdout",
          "text": [
            "Welcome To AI club\n",
            "I have define my custom function\n",
            "Please work on it, may be you shine like a star in your domain\n"
          ]
        }
      ]
    },
    {
      "cell_type": "code",
      "source": [
        "# this offical way to call decorator\n",
        "@main_welcome\n",
        "def other_way_calling_decorator():\n",
        "    print(\"this offical way to call decorator \")"
      ],
      "metadata": {
        "colab": {
          "base_uri": "https://localhost:8080/"
        },
        "id": "O9psluZ7cLoA",
        "outputId": "7406ca76-017f-405f-d7c3-1c8e2a3069f2"
      },
      "execution_count": null,
      "outputs": [
        {
          "output_type": "stream",
          "name": "stdout",
          "text": [
            "Welcome To AI club\n",
            "this offical way to call decorator \n",
            "Please work on it, may be you shine like a star in your domain\n"
          ]
        }
      ]
    },
    {
      "cell_type": "code",
      "source": [
        "def main_welcome():\n",
        "  mas = \"Hello everyOne\"\n",
        "  # this function is most important to understand closures.\n",
        "  def sub_welcome_class():\n",
        "    print(\"Welcome To AI club\")\n",
        "    print(mas)\n",
        "    print(\"Please work on it, may be you shine like a star in your domain\")\n",
        "  return sub_welcome_class()\n",
        "main_welcome()\n",
        "# this is example of Closures."
      ],
      "metadata": {
        "colab": {
          "base_uri": "https://localhost:8080/"
        },
        "id": "2sUudSBsSmuy",
        "outputId": "44937b7b-4240-4110-cd3b-7418cda3cf70"
      },
      "execution_count": null,
      "outputs": [
        {
          "output_type": "stream",
          "name": "stdout",
          "text": [
            "Welcome To AI club\n",
            "Hello everyOne\n",
            "Please work on it, may be you shine like a star in your domain\n"
          ]
        }
      ]
    },
    {
      "cell_type": "code",
      "source": [
        "def main_welcome(mas):\n",
        "  # this function is most important to understand closures.\n",
        "  def sub_welcome_class():\n",
        "    print(\"Welcome To AI club\")\n",
        "    print(mas)\n",
        "    print(\"Please work on it, may be you shine like a star in your domain\")\n",
        "  return sub_welcome_class()\n",
        "main_welcome(\"Hello everyOne\")\n",
        "# this is example of Closures."
      ],
      "metadata": {
        "colab": {
          "base_uri": "https://localhost:8080/"
        },
        "id": "RMqrLjpmORN4",
        "outputId": "74e9b53a-86b6-432d-9b59-81e2b46be228"
      },
      "execution_count": null,
      "outputs": [
        {
          "output_type": "stream",
          "name": "stdout",
          "text": [
            "Welcome To AI club\n",
            "Hello everyOne\n",
            "Please work on it, may be you shine like a star in your domain\n"
          ]
        }
      ]
    },
    {
      "cell_type": "markdown",
      "source": [
        "# Iterators\n",
        "- list tuple dictionary are iterable and for loop is a iterator\n",
        "- with help of next we get the value, it goes forward to next value and it does not go back\n",
        "- we can use it in try and expect block to avoid the error\n",
        "-Iterators are objects in Python that allow you to traverse a sequence of elements one at a time. They provide a simple way to access the elements of a collection, such as a list, tuple, or dictionary, without having to know the specific implementation of the collection.\n",
        "- it safe the memory as well b/c it reserver memory it called.\n"
      ],
      "metadata": {
        "id": "N5yiC6lAHmpx"
      }
    },
    {
      "cell_type": "code",
      "source": [
        "##iterable\n",
        "lst=[1,2,3,4]\n",
        "for i in lst:\n",
        "    print(i)"
      ],
      "metadata": {
        "colab": {
          "base_uri": "https://localhost:8080/"
        },
        "id": "TT4DNZN5HZ6u",
        "outputId": "5d1301c7-c8dc-4fb5-e12f-447f9dd1e9d1"
      },
      "execution_count": null,
      "outputs": [
        {
          "output_type": "stream",
          "name": "stdout",
          "text": [
            "1\n",
            "2\n",
            "3\n",
            "4\n"
          ]
        }
      ]
    },
    {
      "cell_type": "code",
      "source": [
        "##iterator\n",
        "iterable=iter(lst)\n",
        "type(iterable)"
      ],
      "metadata": {
        "colab": {
          "base_uri": "https://localhost:8080/"
        },
        "id": "gYlSgJwsHsX_",
        "outputId": "0febb7e8-4236-4305-e31b-ca1c4d7af72b"
      },
      "execution_count": null,
      "outputs": [
        {
          "output_type": "execute_result",
          "data": {
            "text/plain": [
              "list_iterator"
            ]
          },
          "metadata": {},
          "execution_count": 2
        }
      ]
    },
    {
      "cell_type": "code",
      "source": [
        "## We can iterate\n",
        "for i in iterable:\n",
        "    print(i)"
      ],
      "metadata": {
        "colab": {
          "base_uri": "https://localhost:8080/"
        },
        "id": "CwxZTJH8HvW0",
        "outputId": "8fb7bb91-9f88-44e7-88f6-f3647b418357"
      },
      "execution_count": null,
      "outputs": [
        {
          "output_type": "stream",
          "name": "stdout",
          "text": [
            "1\n",
            "2\n",
            "3\n",
            "4\n"
          ]
        }
      ]
    },
    {
      "cell_type": "code",
      "source": [
        "try:\n",
        "    print(next(iterable))\n",
        "except StopIteration:\n",
        "    print(\"The iterator is empty\")"
      ],
      "metadata": {
        "colab": {
          "base_uri": "https://localhost:8080/"
        },
        "id": "9VSRNM9QHyOQ",
        "outputId": "2182dc44-6e4f-469b-8c04-2ca972663056"
      },
      "execution_count": null,
      "outputs": [
        {
          "output_type": "stream",
          "name": "stdout",
          "text": [
            "The iterator is empty\n"
          ]
        }
      ]
    },
    {
      "cell_type": "markdown",
      "source": [
        "# Generator\n",
        "-  yield keyword is a sign of generator function\n",
        "- take value generator function use next keyword\n",
        "- these are memory efficient. useful in ML, and DL"
      ],
      "metadata": {
        "id": "OS6__GLYzthx"
      }
    },
    {
      "cell_type": "code",
      "source": [
        "# Generator are basically use to create iteror\n",
        "def square(n):\n",
        "    for i in range(n):\n",
        "        yield i**2\n",
        "        # b/c of yield keyword the complete function convert into iterator,\n",
        "        # it is a kind of generator,\n",
        "        # generators are used in order to use iterator.\n",
        "        # the yield does not return with respect only one iteration it return all the iteration that is present. it save local variable value.\n",
        ""
      ],
      "metadata": {
        "id": "FFZ24_rOOPu-"
      },
      "execution_count": null,
      "outputs": []
    },
    {
      "cell_type": "code",
      "source": [
        "square(5)"
      ],
      "metadata": {
        "colab": {
          "base_uri": "https://localhost:8080/"
        },
        "id": "BuPhtjUp9rOw",
        "outputId": "ca798065-13ed-42c2-d938-d272313a1e0e"
      },
      "execution_count": null,
      "outputs": [
        {
          "output_type": "execute_result",
          "data": {
            "text/plain": [
              "<generator object square at 0x7f703af8c580>"
            ]
          },
          "metadata": {},
          "execution_count": 45
        }
      ]
    },
    {
      "cell_type": "code",
      "source": [
        "for a in square(5):\n",
        "  print(a)"
      ],
      "metadata": {
        "colab": {
          "base_uri": "https://localhost:8080/"
        },
        "id": "jBMqd_1g5mwy",
        "outputId": "9281ed5a-5365-4a58-f91d-4e09ba0b7116"
      },
      "execution_count": null,
      "outputs": [
        {
          "output_type": "stream",
          "name": "stdout",
          "text": [
            "0\n",
            "1\n",
            "4\n",
            "9\n",
            "16\n"
          ]
        }
      ]
    },
    {
      "cell_type": "code",
      "source": [
        "b = square(8)\n",
        "b"
      ],
      "metadata": {
        "colab": {
          "base_uri": "https://localhost:8080/"
        },
        "id": "GFvOagZD6df5",
        "outputId": "e5a000a7-c915-4e8e-f69a-f0945835a526"
      },
      "execution_count": null,
      "outputs": [
        {
          "output_type": "execute_result",
          "data": {
            "text/plain": [
              "<generator object square at 0x7f703af8f610>"
            ]
          },
          "metadata": {},
          "execution_count": 51
        }
      ]
    },
    {
      "cell_type": "code",
      "source": [
        "next(b) # by using generator we can create iterator"
      ],
      "metadata": {
        "colab": {
          "base_uri": "https://localhost:8080/"
        },
        "id": "lfo0L4lgBSjw",
        "outputId": "6778c653-cff9-44f1-d537-f0736203cb44"
      },
      "execution_count": null,
      "outputs": [
        {
          "data": {
            "text/plain": [
              "1"
            ]
          },
          "execution_count": 53,
          "metadata": {},
          "output_type": "execute_result"
        }
      ]
    },
    {
      "cell_type": "markdown",
      "source": [
        "- difference b/w iterator and generator\n",
        "- iterator we use iter()\n",
        "- generator we use function along with yield keyword, this yield keyword saving the local variable value meanwhile return that as well\n",
        "- generator write fast and compact code in python than iterator\n",
        "- iterator os memory efficient but generator is not\n",
        "- iterator are basically is collection"
      ],
      "metadata": {
        "id": "ZKWcTmvEIFe1"
      }
    }
  ]
}