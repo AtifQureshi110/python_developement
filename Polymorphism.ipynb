{
  "nbformat": 4,
  "nbformat_minor": 0,
  "metadata": {
    "colab": {
      "provenance": [],
      "authorship_tag": "ABX9TyM8WsPewLNFjjbNYW5AIFk3",
      "include_colab_link": true
    },
    "kernelspec": {
      "name": "python3",
      "display_name": "Python 3"
    },
    "language_info": {
      "name": "python"
    }
  },
  "cells": [
    {
      "cell_type": "markdown",
      "metadata": {
        "id": "view-in-github",
        "colab_type": "text"
      },
      "source": [
        "<a href=\"https://colab.research.google.com/github/AtifQureshi110/python_developement/blob/main/Polymorphism.ipynb\" target=\"_parent\"><img src=\"https://colab.research.google.com/assets/colab-badge.svg\" alt=\"Open In Colab\"/></a>"
      ]
    },
    {
      "cell_type": "markdown",
      "source": [
        "### Polymorphism\n",
        "- Polymorphism\n",
        "-- mean multiply faces/forms.\n",
        "- Method Overriding:\n",
        "-- in inheritance you and your parent have method of same name when your object called the method so your method is going to run\n",
        "- Method Overloading:\n",
        "-- method overloading is concept there inside of your class you have multiple function with same name, however their output are different based on their input, benefit of it is that it cleans the code.But Python does not have this concept, however can use this functionality by using default argument function other are also avaib but this is one of them.\n",
        "- Operator Overloading\n",
        "-- if one operator behaving differently with different input than it is called Operator Overloading"
      ],
      "metadata": {
        "id": "TvZX-Zw9FtKB"
      }
    },
    {
      "cell_type": "markdown",
      "source": [
        "Method Overloading"
      ],
      "metadata": {
        "id": "n4QmwBJvfW11"
      }
    },
    {
      "cell_type": "code",
      "source": [
        "class Shape:\n",
        "\n",
        "  def area(self,a,b=0):\n",
        "    if b == 0:\n",
        "      return 3.14*a*a\n",
        "    else:\n",
        "      return a*b\n",
        "\n",
        "s = Shape()\n",
        "\n",
        "print(s.area(2))\n",
        "print(s.area(3,4))"
      ],
      "metadata": {
        "id": "wuVzSLONF0ha",
        "colab": {
          "base_uri": "https://localhost:8080/"
        },
        "outputId": "c0ef3d86-9a4b-4d2f-f6b4-2ca8b7d42764"
      },
      "execution_count": null,
      "outputs": [
        {
          "output_type": "stream",
          "name": "stdout",
          "text": [
            "12.56\n",
            "12\n"
          ]
        }
      ]
    },
    {
      "cell_type": "markdown",
      "source": [
        "Operator Overloading"
      ],
      "metadata": {
        "id": "naLt7l2ae6Tz"
      }
    },
    {
      "cell_type": "code",
      "source": [
        "'hello' + 'world'"
      ],
      "metadata": {
        "id": "3-SJbwpMXE4J",
        "colab": {
          "base_uri": "https://localhost:8080/",
          "height": 36
        },
        "outputId": "1fb14d61-32b2-4267-e997-edbd98de1c22"
      },
      "execution_count": null,
      "outputs": [
        {
          "output_type": "execute_result",
          "data": {
            "text/plain": [
              "'helloworld'"
            ],
            "application/vnd.google.colaboratory.intrinsic+json": {
              "type": "string"
            }
          },
          "metadata": {},
          "execution_count": 61
        }
      ]
    },
    {
      "cell_type": "code",
      "source": [
        "4 + 5"
      ],
      "metadata": {
        "id": "XIhrt6ffXFOq",
        "colab": {
          "base_uri": "https://localhost:8080/"
        },
        "outputId": "5936ff62-3649-470b-8080-27e0932d795c"
      },
      "execution_count": null,
      "outputs": [
        {
          "output_type": "execute_result",
          "data": {
            "text/plain": [
              "9"
            ]
          },
          "metadata": {},
          "execution_count": 62
        }
      ]
    },
    {
      "cell_type": "code",
      "source": [
        "[1,2,3] + [4,5]"
      ],
      "metadata": {
        "colab": {
          "base_uri": "https://localhost:8080/"
        },
        "id": "ykLFszsHfrKi",
        "outputId": "b6dce7af-c9d9-4414-bd3e-dbdacc9df9e1"
      },
      "execution_count": null,
      "outputs": [
        {
          "output_type": "execute_result",
          "data": {
            "text/plain": [
              "[1, 2, 3, 4, 5]"
            ]
          },
          "metadata": {},
          "execution_count": 63
        }
      ]
    }
  ]
}