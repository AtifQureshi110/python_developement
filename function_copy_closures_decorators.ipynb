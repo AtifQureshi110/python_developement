{
  "nbformat": 4,
  "nbformat_minor": 0,
  "metadata": {
    "colab": {
      "provenance": [],
      "collapsed_sections": [
        "NU6ffpVvRK_z",
        "5iM_cINIUcbC"
      ],
      "authorship_tag": "ABX9TyNLAL9XsRef36uRVhSM/nmf",
      "include_colab_link": true
    },
    "kernelspec": {
      "name": "python3",
      "display_name": "Python 3"
    },
    "language_info": {
      "name": "python"
    }
  },
  "cells": [
    {
      "cell_type": "markdown",
      "metadata": {
        "id": "view-in-github",
        "colab_type": "text"
      },
      "source": [
        "<a href=\"https://colab.research.google.com/github/AtifQureshi110/python_developement/blob/main/function_copy_closures_decorators.ipynb\" target=\"_parent\"><img src=\"https://colab.research.google.com/assets/colab-badge.svg\" alt=\"Open In Colab\"/></a>"
      ]
    },
    {
      "cell_type": "markdown",
      "source": [
        "# Python Decorators\n",
        "- function copy\n",
        "- closures\n",
        "- decorators"
      ],
      "metadata": {
        "id": "c1cNFHKWN9vd"
      }
    },
    {
      "cell_type": "markdown",
      "source": [
        "# function copy"
      ],
      "metadata": {
        "id": "HTVvEiVCULDI"
      }
    },
    {
      "cell_type": "code",
      "source": [
        "def welcome():\n",
        "    return \"learning decorators and closures\""
      ],
      "metadata": {
        "id": "D51QYWnJODA1"
      },
      "execution_count": null,
      "outputs": []
    },
    {
      "cell_type": "code",
      "source": [
        "well = welcome()"
      ],
      "metadata": {
        "id": "njPO8MvaJF7u"
      },
      "execution_count": null,
      "outputs": []
    },
    {
      "cell_type": "code",
      "source": [
        "well"
      ],
      "metadata": {
        "colab": {
          "base_uri": "https://localhost:8080/",
          "height": 35
        },
        "id": "16ZJ-6BMOQ80",
        "outputId": "bd774f49-5406-4183-cf2d-2e680658a877"
      },
      "execution_count": null,
      "outputs": [
        {
          "output_type": "execute_result",
          "data": {
            "text/plain": [
              "'learning decorators and closures'"
            ],
            "application/vnd.google.colaboratory.intrinsic+json": {
              "type": "string"
            }
          },
          "metadata": {},
          "execution_count": 14
        }
      ]
    },
    {
      "cell_type": "code",
      "source": [
        "welcome()"
      ],
      "metadata": {
        "colab": {
          "base_uri": "https://localhost:8080/",
          "height": 35
        },
        "id": "ZqSg91pHOQ_q",
        "outputId": "0a8d67be-690f-427d-bdf6-e73353cfd8da"
      },
      "execution_count": null,
      "outputs": [
        {
          "output_type": "execute_result",
          "data": {
            "text/plain": [
              "'learning decorators and closures'"
            ],
            "application/vnd.google.colaboratory.intrinsic+json": {
              "type": "string"
            }
          },
          "metadata": {},
          "execution_count": 16
        }
      ]
    },
    {
      "cell_type": "code",
      "source": [
        "del welcome\n",
        "\"\"\"interview question: after assigning welcome function to the wel,\n",
        "meanwhile if welcome function is deleted then will wel variable has the output of welcome function.\"\"\""
      ],
      "metadata": {
        "colab": {
          "base_uri": "https://localhost:8080/",
          "height": 53
        },
        "id": "dV16gV0WORCe",
        "outputId": "ebf6309b-0a80-47e7-9507-29db76660c43"
      },
      "execution_count": null,
      "outputs": [
        {
          "output_type": "execute_result",
          "data": {
            "text/plain": [
              "'interview question: after assigning welcome function to the wel,\\nmeanwhile if welcome function is deleted then will wel variable has the output of welcome function.'"
            ],
            "application/vnd.google.colaboratory.intrinsic+json": {
              "type": "string"
            }
          },
          "metadata": {},
          "execution_count": 17
        }
      ]
    },
    {
      "cell_type": "code",
      "source": [
        "well # this called function copy"
      ],
      "metadata": {
        "colab": {
          "base_uri": "https://localhost:8080/",
          "height": 35
        },
        "id": "9nTL5i44ORFR",
        "outputId": "c186f7ee-9c25-4be5-cb71-47d82ee5aed8"
      },
      "execution_count": null,
      "outputs": [
        {
          "output_type": "execute_result",
          "data": {
            "text/plain": [
              "'learning decorators and closures'"
            ],
            "application/vnd.google.colaboratory.intrinsic+json": {
              "type": "string"
            }
          },
          "metadata": {},
          "execution_count": 18
        }
      ]
    },
    {
      "cell_type": "code",
      "source": [
        "try:\n",
        "  welcome()\n",
        "except NameError:\n",
        "  print('This function has been delected.')"
      ],
      "metadata": {
        "colab": {
          "base_uri": "https://localhost:8080/"
        },
        "id": "idKRv0RGORK8",
        "outputId": "c89b7b9a-0bdb-4a3e-bb6d-34f42ff8d39b"
      },
      "execution_count": null,
      "outputs": [
        {
          "output_type": "stream",
          "name": "stdout",
          "text": [
            "This function has been delected.\n"
          ]
        }
      ]
    },
    {
      "cell_type": "markdown",
      "source": [
        "# Closures:\n",
        "- function inside function is called closures function."
      ],
      "metadata": {
        "id": "NU6ffpVvRK_z"
      }
    },
    {
      "cell_type": "code",
      "source": [
        "def main_welcome():\n",
        "  mas = \"Hello everyOne\"\n",
        "  # this function is most important to understand closures.\n",
        "  def sub_welcome_class():\n",
        "    print(\"Welcome To AI club\")\n",
        "    print(mas)\n",
        "    print(\"Please work on it, may be you shine like a star in your domain\")\n",
        "  return sub_welcome_class()\n",
        "main_welcome()\n",
        "# this is example of Closures."
      ],
      "metadata": {
        "colab": {
          "base_uri": "https://localhost:8080/"
        },
        "id": "2sUudSBsSmuy",
        "outputId": "44937b7b-4240-4110-cd3b-7418cda3cf70"
      },
      "execution_count": null,
      "outputs": [
        {
          "output_type": "stream",
          "name": "stdout",
          "text": [
            "Welcome To AI club\n",
            "Hello everyOne\n",
            "Please work on it, may be you shine like a star in your domain\n"
          ]
        }
      ]
    },
    {
      "cell_type": "code",
      "source": [
        "def main_welcome(mas):\n",
        "  # this function is most important to understand closures.\n",
        "  def sub_welcome_class():\n",
        "    print(\"Welcome To AI club\")\n",
        "    print(mas)\n",
        "    print(\"Please work on it, may be you shine like a star in your domain\")\n",
        "  return sub_welcome_class()\n",
        "main_welcome(\"Hello everyOne\")\n",
        "# this is example of Closures."
      ],
      "metadata": {
        "colab": {
          "base_uri": "https://localhost:8080/"
        },
        "id": "RMqrLjpmORN4",
        "outputId": "74e9b53a-86b6-432d-9b59-81e2b46be228"
      },
      "execution_count": null,
      "outputs": [
        {
          "output_type": "stream",
          "name": "stdout",
          "text": [
            "Welcome To AI club\n",
            "Hello everyOne\n",
            "Please work on it, may be you shine like a star in your domain\n"
          ]
        }
      ]
    },
    {
      "cell_type": "markdown",
      "source": [
        "# decorators"
      ],
      "metadata": {
        "id": "5iM_cINIUcbC"
      }
    },
    {
      "cell_type": "code",
      "source": [
        "# closures and initial decorators\n",
        "def main_welcome(func):\n",
        "  def sub_welcome_class():\n",
        "    print(\"Welcome To AI club\")\n",
        "    func()\n",
        "    print(\"Please work on it, may be you shine like a star in your domain\")\n",
        "    print('This is with respect to in_build function')\n",
        "  return sub_welcome_class()"
      ],
      "metadata": {
        "id": "UEKVaW5TUskx"
      },
      "execution_count": null,
      "outputs": []
    },
    {
      "cell_type": "code",
      "source": [
        "main_welcome(print)"
      ],
      "metadata": {
        "colab": {
          "base_uri": "https://localhost:8080/"
        },
        "id": "G_wJ7K6MUu5b",
        "outputId": "530cd966-87e9-4d74-8ec1-25dce821dad4"
      },
      "execution_count": null,
      "outputs": [
        {
          "output_type": "stream",
          "name": "stdout",
          "text": [
            "Welcome To AI club\n",
            "\n",
            "Please work on it, may be you shine like a star in your domain\n",
            "This is with respect to in_build function\n"
          ]
        }
      ]
    },
    {
      "cell_type": "code",
      "source": [
        "# closures and initial decorators\n",
        "def main_welcome(func):\n",
        "  def sub_welcome_class():\n",
        "    print(\"Welcome To AI club\")\n",
        "    print(func([1,4,6,8,5,4,9,3]))\n",
        "    print(\"Please work on it, may be you shine like a star in your domain\")\n",
        "    print('what I make my own function')\n",
        "  return sub_welcome_class()"
      ],
      "metadata": {
        "id": "IuzNkVl2UusJ"
      },
      "execution_count": null,
      "outputs": []
    },
    {
      "cell_type": "code",
      "source": [
        "main_welcome(len)"
      ],
      "metadata": {
        "colab": {
          "base_uri": "https://localhost:8080/"
        },
        "id": "poYuZkicUud4",
        "outputId": "7d53babe-17bf-4392-949c-f8213a2d9df7"
      },
      "execution_count": null,
      "outputs": [
        {
          "output_type": "stream",
          "name": "stdout",
          "text": [
            "Welcome To AI club\n",
            "8\n",
            "Please work on it, may be you shine like a star in your domain\n",
            "what I make my own function\n"
          ]
        }
      ]
    },
    {
      "cell_type": "code",
      "source": [
        "# can I create my own function and give it as parameter overthere\n",
        "# Decorators\n",
        "def main_welcome(func):\n",
        "    def sub_welcome_class():\n",
        "      print(\"Welcome To AI club\")\n",
        "      func()\n",
        "      print(\"Please work on it, may be you shine like a star in your domain\")\n",
        "    return sub_welcome_class()"
      ],
      "metadata": {
        "id": "DjxehIT_UuN7"
      },
      "execution_count": null,
      "outputs": []
    },
    {
      "cell_type": "code",
      "source": [
        "def one_way_calling_decorator():\n",
        "    print(\"I have define my custom function\")"
      ],
      "metadata": {
        "id": "9Zd3n2DOUr-p"
      },
      "execution_count": null,
      "outputs": []
    },
    {
      "cell_type": "code",
      "source": [
        "main_welcome(one_way_calling_decorator)"
      ],
      "metadata": {
        "colab": {
          "base_uri": "https://localhost:8080/"
        },
        "id": "sOj5tfSKb9o_",
        "outputId": "860d4b50-626c-4aaf-d34d-1c898122bc10"
      },
      "execution_count": null,
      "outputs": [
        {
          "output_type": "stream",
          "name": "stdout",
          "text": [
            "Welcome To AI club\n",
            "I have define my custom function\n",
            "Please work on it, may be you shine like a star in your domain\n"
          ]
        }
      ]
    },
    {
      "cell_type": "code",
      "source": [
        "# this offical way to call decorator\n",
        "@main_welcome\n",
        "def other_way_calling_decorator():\n",
        "    print(\"this offical way to call decorator \")"
      ],
      "metadata": {
        "colab": {
          "base_uri": "https://localhost:8080/"
        },
        "id": "O9psluZ7cLoA",
        "outputId": "7406ca76-017f-405f-d7c3-1c8e2a3069f2"
      },
      "execution_count": null,
      "outputs": [
        {
          "output_type": "stream",
          "name": "stdout",
          "text": [
            "Welcome To AI club\n",
            "this offical way to call decorator \n",
            "Please work on it, may be you shine like a star in your domain\n"
          ]
        }
      ]
    }
  ]
}